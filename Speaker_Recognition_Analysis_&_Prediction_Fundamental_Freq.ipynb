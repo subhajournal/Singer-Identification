{
 "cells": [
  {
   "cell_type": "markdown",
   "metadata": {},
   "source": [
    "## Singer Prediction-Main Work__Fundamental Freq"
   ]
  },
  {
   "cell_type": "code",
   "execution_count": 80,
   "metadata": {},
   "outputs": [],
   "source": [
    "from __future__ import print_function\n",
    "import os\n",
    "from scipy.io.wavfile import read\n",
    "import scipy.io.wavfile as wav\n",
    "import subprocess as sp\n",
    "import numpy as np\n",
    "import argparse\n",
    "import random\n",
    "import os\n",
    "import sys\n",
    "from random import shuffle\n",
    "import speechpy\n",
    "import datetime\n",
    "import matplotlib.pyplot as plt\n",
    "from scipy.fftpack import fft,fftfreq\n",
    "import numpy as np\n",
    "import pylab as pyl\n",
    "import pandas as pd\n",
    "import seaborn as sns\n",
    "import matplotlib.pyplot as plt"
   ]
  },
  {
   "cell_type": "markdown",
   "metadata": {},
   "source": [
    "### Predictor-Target Generation"
   ]
  },
  {
   "cell_type": "code",
   "execution_count": 81,
   "metadata": {},
   "outputs": [],
   "source": [
    "dr=\"D:/As Freelancer/Projects/Speaker Recognition/wave/TRAIN/\"\n",
    "freqdata=pd.read_csv(dr+'Artist_Freq.csv')\n",
    "try:\n",
    "    freqdata=freqdata.drop('Unnamed: 0',axis=1)\n",
    "except:\n",
    "    pass"
   ]
  },
  {
   "cell_type": "code",
   "execution_count": 83,
   "metadata": {},
   "outputs": [
    {
     "data": {
      "text/html": [
       "<div>\n",
       "<style scoped>\n",
       "    .dataframe tbody tr th:only-of-type {\n",
       "        vertical-align: middle;\n",
       "    }\n",
       "\n",
       "    .dataframe tbody tr th {\n",
       "        vertical-align: top;\n",
       "    }\n",
       "\n",
       "    .dataframe thead th {\n",
       "        text-align: right;\n",
       "    }\n",
       "</style>\n",
       "<table border=\"1\" class=\"dataframe\">\n",
       "  <thead>\n",
       "    <tr style=\"text-align: right;\">\n",
       "      <th></th>\n",
       "      <th>F1</th>\n",
       "      <th>F2</th>\n",
       "      <th>F3</th>\n",
       "      <th>F4</th>\n",
       "      <th>F5</th>\n",
       "      <th>F6</th>\n",
       "      <th>F7</th>\n",
       "      <th>F8</th>\n",
       "      <th>F9</th>\n",
       "      <th>F10</th>\n",
       "      <th>...</th>\n",
       "      <th>F59</th>\n",
       "      <th>F60</th>\n",
       "      <th>F61</th>\n",
       "      <th>F62</th>\n",
       "      <th>F63</th>\n",
       "      <th>F64</th>\n",
       "      <th>F65</th>\n",
       "      <th>F66</th>\n",
       "      <th>F67</th>\n",
       "      <th>Artist</th>\n",
       "    </tr>\n",
       "  </thead>\n",
       "  <tbody>\n",
       "    <tr>\n",
       "      <th>0</th>\n",
       "      <td>511.5</td>\n",
       "      <td>516.9</td>\n",
       "      <td>21710.8</td>\n",
       "      <td>344.6</td>\n",
       "      <td>339.2</td>\n",
       "      <td>506.2</td>\n",
       "      <td>21549.2</td>\n",
       "      <td>21883.1</td>\n",
       "      <td>172.3</td>\n",
       "      <td>333.8</td>\n",
       "      <td>...</td>\n",
       "      <td>21759.2</td>\n",
       "      <td>296.2</td>\n",
       "      <td>20370.0</td>\n",
       "      <td>1685.4</td>\n",
       "      <td>21183.1</td>\n",
       "      <td>872.3</td>\n",
       "      <td>866.9</td>\n",
       "      <td>20348.5</td>\n",
       "      <td>1706.9</td>\n",
       "      <td>2</td>\n",
       "    </tr>\n",
       "    <tr>\n",
       "      <th>1</th>\n",
       "      <td>393.1</td>\n",
       "      <td>387.7</td>\n",
       "      <td>21667.7</td>\n",
       "      <td>382.3</td>\n",
       "      <td>188.5</td>\n",
       "      <td>86.2</td>\n",
       "      <td>263.8</td>\n",
       "      <td>592.3</td>\n",
       "      <td>183.1</td>\n",
       "      <td>398.5</td>\n",
       "      <td>...</td>\n",
       "      <td>20876.2</td>\n",
       "      <td>1179.2</td>\n",
       "      <td>22012.3</td>\n",
       "      <td>409.2</td>\n",
       "      <td>19702.3</td>\n",
       "      <td>2353.1</td>\n",
       "      <td>21980.0</td>\n",
       "      <td>2347.7</td>\n",
       "      <td>1173.8</td>\n",
       "      <td>7</td>\n",
       "    </tr>\n",
       "    <tr>\n",
       "      <th>2</th>\n",
       "      <td>215.4</td>\n",
       "      <td>210.0</td>\n",
       "      <td>188.5</td>\n",
       "      <td>204.6</td>\n",
       "      <td>193.8</td>\n",
       "      <td>156.2</td>\n",
       "      <td>414.6</td>\n",
       "      <td>2363.8</td>\n",
       "      <td>635.4</td>\n",
       "      <td>102.3</td>\n",
       "      <td>...</td>\n",
       "      <td>2977.7</td>\n",
       "      <td>495.4</td>\n",
       "      <td>592.3</td>\n",
       "      <td>19653.8</td>\n",
       "      <td>2401.5</td>\n",
       "      <td>102.3</td>\n",
       "      <td>102.3</td>\n",
       "      <td>102.3</td>\n",
       "      <td>102.3</td>\n",
       "      <td>3</td>\n",
       "    </tr>\n",
       "    <tr>\n",
       "      <th>3</th>\n",
       "      <td>468.5</td>\n",
       "      <td>242.3</td>\n",
       "      <td>479.2</td>\n",
       "      <td>21576.2</td>\n",
       "      <td>463.1</td>\n",
       "      <td>1394.6</td>\n",
       "      <td>247.7</td>\n",
       "      <td>226.2</td>\n",
       "      <td>20655.4</td>\n",
       "      <td>1400.0</td>\n",
       "      <td>...</td>\n",
       "      <td>21904.6</td>\n",
       "      <td>150.8</td>\n",
       "      <td>199.2</td>\n",
       "      <td>21856.2</td>\n",
       "      <td>355.4</td>\n",
       "      <td>215.4</td>\n",
       "      <td>20440.0</td>\n",
       "      <td>1615.4</td>\n",
       "      <td>21350.0</td>\n",
       "      <td>2</td>\n",
       "    </tr>\n",
       "    <tr>\n",
       "      <th>4</th>\n",
       "      <td>129.2</td>\n",
       "      <td>134.6</td>\n",
       "      <td>140.0</td>\n",
       "      <td>123.8</td>\n",
       "      <td>21958.5</td>\n",
       "      <td>96.9</td>\n",
       "      <td>80.8</td>\n",
       "      <td>21963.8</td>\n",
       "      <td>91.5</td>\n",
       "      <td>86.2</td>\n",
       "      <td>...</td>\n",
       "      <td>80.8</td>\n",
       "      <td>80.8</td>\n",
       "      <td>80.8</td>\n",
       "      <td>80.8</td>\n",
       "      <td>80.8</td>\n",
       "      <td>80.8</td>\n",
       "      <td>80.8</td>\n",
       "      <td>80.8</td>\n",
       "      <td>80.8</td>\n",
       "      <td>5</td>\n",
       "    </tr>\n",
       "    <tr>\n",
       "      <th>5</th>\n",
       "      <td>393.1</td>\n",
       "      <td>350.0</td>\n",
       "      <td>129.2</td>\n",
       "      <td>290.8</td>\n",
       "      <td>296.2</td>\n",
       "      <td>21667.7</td>\n",
       "      <td>387.7</td>\n",
       "      <td>118.5</td>\n",
       "      <td>344.6</td>\n",
       "      <td>339.2</td>\n",
       "      <td>...</td>\n",
       "      <td>414.6</td>\n",
       "      <td>403.8</td>\n",
       "      <td>91.5</td>\n",
       "      <td>91.5</td>\n",
       "      <td>91.5</td>\n",
       "      <td>91.5</td>\n",
       "      <td>91.5</td>\n",
       "      <td>91.5</td>\n",
       "      <td>91.5</td>\n",
       "      <td>4</td>\n",
       "    </tr>\n",
       "    <tr>\n",
       "      <th>6</th>\n",
       "      <td>21834.6</td>\n",
       "      <td>220.8</td>\n",
       "      <td>446.9</td>\n",
       "      <td>177.7</td>\n",
       "      <td>183.1</td>\n",
       "      <td>21872.3</td>\n",
       "      <td>215.4</td>\n",
       "      <td>193.8</td>\n",
       "      <td>21829.2</td>\n",
       "      <td>226.2</td>\n",
       "      <td>...</td>\n",
       "      <td>21414.6</td>\n",
       "      <td>640.8</td>\n",
       "      <td>538.5</td>\n",
       "      <td>21516.9</td>\n",
       "      <td>576.2</td>\n",
       "      <td>21479.2</td>\n",
       "      <td>21409.2</td>\n",
       "      <td>646.2</td>\n",
       "      <td>360.8</td>\n",
       "      <td>3</td>\n",
       "    </tr>\n",
       "    <tr>\n",
       "      <th>7</th>\n",
       "      <td>21883.1</td>\n",
       "      <td>172.3</td>\n",
       "      <td>861.5</td>\n",
       "      <td>215.4</td>\n",
       "      <td>166.9</td>\n",
       "      <td>21888.5</td>\n",
       "      <td>2606.2</td>\n",
       "      <td>19449.2</td>\n",
       "      <td>21899.2</td>\n",
       "      <td>156.2</td>\n",
       "      <td>...</td>\n",
       "      <td>19519.2</td>\n",
       "      <td>3726.2</td>\n",
       "      <td>18329.2</td>\n",
       "      <td>2563.1</td>\n",
       "      <td>210.0</td>\n",
       "      <td>490.0</td>\n",
       "      <td>21565.4</td>\n",
       "      <td>18873.1</td>\n",
       "      <td>3182.3</td>\n",
       "      <td>6</td>\n",
       "    </tr>\n",
       "    <tr>\n",
       "      <th>8</th>\n",
       "      <td>188.5</td>\n",
       "      <td>199.2</td>\n",
       "      <td>193.8</td>\n",
       "      <td>603.1</td>\n",
       "      <td>204.6</td>\n",
       "      <td>21468.5</td>\n",
       "      <td>586.9</td>\n",
       "      <td>576.2</td>\n",
       "      <td>21312.3</td>\n",
       "      <td>743.1</td>\n",
       "      <td>...</td>\n",
       "      <td>1330.0</td>\n",
       "      <td>231.5</td>\n",
       "      <td>210.0</td>\n",
       "      <td>21064.6</td>\n",
       "      <td>990.8</td>\n",
       "      <td>1103.8</td>\n",
       "      <td>226.2</td>\n",
       "      <td>96.9</td>\n",
       "      <td>96.9</td>\n",
       "      <td>3</td>\n",
       "    </tr>\n",
       "    <tr>\n",
       "      <th>9</th>\n",
       "      <td>21516.9</td>\n",
       "      <td>538.5</td>\n",
       "      <td>533.1</td>\n",
       "      <td>21533.1</td>\n",
       "      <td>522.3</td>\n",
       "      <td>166.9</td>\n",
       "      <td>21883.1</td>\n",
       "      <td>172.3</td>\n",
       "      <td>21511.5</td>\n",
       "      <td>543.8</td>\n",
       "      <td>...</td>\n",
       "      <td>20876.2</td>\n",
       "      <td>1179.2</td>\n",
       "      <td>20800.8</td>\n",
       "      <td>1254.6</td>\n",
       "      <td>737.7</td>\n",
       "      <td>1028.5</td>\n",
       "      <td>1281.5</td>\n",
       "      <td>21183.1</td>\n",
       "      <td>161.5</td>\n",
       "      <td>4</td>\n",
       "    </tr>\n",
       "    <tr>\n",
       "      <th>10</th>\n",
       "      <td>1760.8</td>\n",
       "      <td>1755.4</td>\n",
       "      <td>1766.2</td>\n",
       "      <td>1750.0</td>\n",
       "      <td>20283.8</td>\n",
       "      <td>1771.5</td>\n",
       "      <td>581.5</td>\n",
       "      <td>1733.8</td>\n",
       "      <td>1163.1</td>\n",
       "      <td>328.5</td>\n",
       "      <td>...</td>\n",
       "      <td>2013.8</td>\n",
       "      <td>290.8</td>\n",
       "      <td>20122.3</td>\n",
       "      <td>1933.1</td>\n",
       "      <td>1787.7</td>\n",
       "      <td>2040.8</td>\n",
       "      <td>20014.6</td>\n",
       "      <td>290.8</td>\n",
       "      <td>290.8</td>\n",
       "      <td>6</td>\n",
       "    </tr>\n",
       "    <tr>\n",
       "      <th>11</th>\n",
       "      <td>247.7</td>\n",
       "      <td>253.1</td>\n",
       "      <td>242.3</td>\n",
       "      <td>258.5</td>\n",
       "      <td>22006.9</td>\n",
       "      <td>236.9</td>\n",
       "      <td>263.8</td>\n",
       "      <td>21829.2</td>\n",
       "      <td>226.2</td>\n",
       "      <td>495.4</td>\n",
       "      <td>...</td>\n",
       "      <td>21759.2</td>\n",
       "      <td>312.3</td>\n",
       "      <td>21743.1</td>\n",
       "      <td>463.1</td>\n",
       "      <td>301.5</td>\n",
       "      <td>21753.8</td>\n",
       "      <td>80.8</td>\n",
       "      <td>80.8</td>\n",
       "      <td>80.8</td>\n",
       "      <td>1</td>\n",
       "    </tr>\n",
       "  </tbody>\n",
       "</table>\n",
       "<p>12 rows × 68 columns</p>\n",
       "</div>"
      ],
      "text/plain": [
       "         F1      F2       F3       F4       F5       F6       F7       F8  \\\n",
       "0     511.5   516.9  21710.8    344.6    339.2    506.2  21549.2  21883.1   \n",
       "1     393.1   387.7  21667.7    382.3    188.5     86.2    263.8    592.3   \n",
       "2     215.4   210.0    188.5    204.6    193.8    156.2    414.6   2363.8   \n",
       "3     468.5   242.3    479.2  21576.2    463.1   1394.6    247.7    226.2   \n",
       "4     129.2   134.6    140.0    123.8  21958.5     96.9     80.8  21963.8   \n",
       "5     393.1   350.0    129.2    290.8    296.2  21667.7    387.7    118.5   \n",
       "6   21834.6   220.8    446.9    177.7    183.1  21872.3    215.4    193.8   \n",
       "7   21883.1   172.3    861.5    215.4    166.9  21888.5   2606.2  19449.2   \n",
       "8     188.5   199.2    193.8    603.1    204.6  21468.5    586.9    576.2   \n",
       "9   21516.9   538.5    533.1  21533.1    522.3    166.9  21883.1    172.3   \n",
       "10   1760.8  1755.4   1766.2   1750.0  20283.8   1771.5    581.5   1733.8   \n",
       "11    247.7   253.1    242.3    258.5  22006.9    236.9    263.8  21829.2   \n",
       "\n",
       "         F9     F10  ...      F59     F60      F61      F62      F63      F64  \\\n",
       "0     172.3   333.8  ...  21759.2   296.2  20370.0   1685.4  21183.1    872.3   \n",
       "1     183.1   398.5  ...  20876.2  1179.2  22012.3    409.2  19702.3   2353.1   \n",
       "2     635.4   102.3  ...   2977.7   495.4    592.3  19653.8   2401.5    102.3   \n",
       "3   20655.4  1400.0  ...  21904.6   150.8    199.2  21856.2    355.4    215.4   \n",
       "4      91.5    86.2  ...     80.8    80.8     80.8     80.8     80.8     80.8   \n",
       "5     344.6   339.2  ...    414.6   403.8     91.5     91.5     91.5     91.5   \n",
       "6   21829.2   226.2  ...  21414.6   640.8    538.5  21516.9    576.2  21479.2   \n",
       "7   21899.2   156.2  ...  19519.2  3726.2  18329.2   2563.1    210.0    490.0   \n",
       "8   21312.3   743.1  ...   1330.0   231.5    210.0  21064.6    990.8   1103.8   \n",
       "9   21511.5   543.8  ...  20876.2  1179.2  20800.8   1254.6    737.7   1028.5   \n",
       "10   1163.1   328.5  ...   2013.8   290.8  20122.3   1933.1   1787.7   2040.8   \n",
       "11    226.2   495.4  ...  21759.2   312.3  21743.1    463.1    301.5  21753.8   \n",
       "\n",
       "        F65      F66      F67  Artist  \n",
       "0     866.9  20348.5   1706.9       2  \n",
       "1   21980.0   2347.7   1173.8       7  \n",
       "2     102.3    102.3    102.3       3  \n",
       "3   20440.0   1615.4  21350.0       2  \n",
       "4      80.8     80.8     80.8       5  \n",
       "5      91.5     91.5     91.5       4  \n",
       "6   21409.2    646.2    360.8       3  \n",
       "7   21565.4  18873.1   3182.3       6  \n",
       "8     226.2     96.9     96.9       3  \n",
       "9    1281.5  21183.1    161.5       4  \n",
       "10  20014.6    290.8    290.8       6  \n",
       "11     80.8     80.8     80.8       1  \n",
       "\n",
       "[12 rows x 68 columns]"
      ]
     },
     "execution_count": 83,
     "metadata": {},
     "output_type": "execute_result"
    }
   ],
   "source": [
    "freqdata.head(12)"
   ]
  },
  {
   "cell_type": "code",
   "execution_count": 12,
   "metadata": {},
   "outputs": [
    {
     "data": {
      "text/plain": [
       "(143, 68)"
      ]
     },
     "execution_count": 12,
     "metadata": {},
     "output_type": "execute_result"
    }
   ],
   "source": [
    "freqdata.shape"
   ]
  },
  {
   "cell_type": "code",
   "execution_count": 18,
   "metadata": {},
   "outputs": [
    {
     "data": {
      "text/plain": [
       "(143, 67)"
      ]
     },
     "execution_count": 18,
     "metadata": {},
     "output_type": "execute_result"
    }
   ],
   "source": [
    "X=audiodata.drop(['Artist'],axis=1)\n",
    "y=audiodata['Artist']\n",
    "X.shape"
   ]
  },
  {
   "cell_type": "code",
   "execution_count": 14,
   "metadata": {},
   "outputs": [
    {
     "data": {
      "text/html": [
       "<div>\n",
       "<style scoped>\n",
       "    .dataframe tbody tr th:only-of-type {\n",
       "        vertical-align: middle;\n",
       "    }\n",
       "\n",
       "    .dataframe tbody tr th {\n",
       "        vertical-align: top;\n",
       "    }\n",
       "\n",
       "    .dataframe thead th {\n",
       "        text-align: right;\n",
       "    }\n",
       "</style>\n",
       "<table border=\"1\" class=\"dataframe\">\n",
       "  <thead>\n",
       "    <tr style=\"text-align: right;\">\n",
       "      <th></th>\n",
       "      <th>F1</th>\n",
       "      <th>F2</th>\n",
       "      <th>F3</th>\n",
       "      <th>F4</th>\n",
       "      <th>F5</th>\n",
       "      <th>F6</th>\n",
       "      <th>F7</th>\n",
       "      <th>F8</th>\n",
       "      <th>F9</th>\n",
       "      <th>F10</th>\n",
       "      <th>...</th>\n",
       "      <th>F58</th>\n",
       "      <th>F59</th>\n",
       "      <th>F60</th>\n",
       "      <th>F61</th>\n",
       "      <th>F62</th>\n",
       "      <th>F63</th>\n",
       "      <th>F64</th>\n",
       "      <th>F65</th>\n",
       "      <th>F66</th>\n",
       "      <th>F67</th>\n",
       "    </tr>\n",
       "  </thead>\n",
       "  <tbody>\n",
       "    <tr>\n",
       "      <th>0</th>\n",
       "      <td>511.5</td>\n",
       "      <td>516.9</td>\n",
       "      <td>21710.8</td>\n",
       "      <td>344.6</td>\n",
       "      <td>339.2</td>\n",
       "      <td>506.2</td>\n",
       "      <td>21549.2</td>\n",
       "      <td>21883.1</td>\n",
       "      <td>172.3</td>\n",
       "      <td>333.8</td>\n",
       "      <td>...</td>\n",
       "      <td>1507.7</td>\n",
       "      <td>21759.2</td>\n",
       "      <td>296.2</td>\n",
       "      <td>20370.0</td>\n",
       "      <td>1685.4</td>\n",
       "      <td>21183.1</td>\n",
       "      <td>872.3</td>\n",
       "      <td>866.9</td>\n",
       "      <td>20348.5</td>\n",
       "      <td>1706.9</td>\n",
       "    </tr>\n",
       "    <tr>\n",
       "      <th>1</th>\n",
       "      <td>393.1</td>\n",
       "      <td>387.7</td>\n",
       "      <td>21667.7</td>\n",
       "      <td>382.3</td>\n",
       "      <td>188.5</td>\n",
       "      <td>86.2</td>\n",
       "      <td>263.8</td>\n",
       "      <td>592.3</td>\n",
       "      <td>183.1</td>\n",
       "      <td>398.5</td>\n",
       "      <td>...</td>\n",
       "      <td>306.9</td>\n",
       "      <td>20876.2</td>\n",
       "      <td>1179.2</td>\n",
       "      <td>22012.3</td>\n",
       "      <td>409.2</td>\n",
       "      <td>19702.3</td>\n",
       "      <td>2353.1</td>\n",
       "      <td>21980.0</td>\n",
       "      <td>2347.7</td>\n",
       "      <td>1173.8</td>\n",
       "    </tr>\n",
       "    <tr>\n",
       "      <th>2</th>\n",
       "      <td>215.4</td>\n",
       "      <td>210.0</td>\n",
       "      <td>188.5</td>\n",
       "      <td>204.6</td>\n",
       "      <td>193.8</td>\n",
       "      <td>156.2</td>\n",
       "      <td>414.6</td>\n",
       "      <td>2363.8</td>\n",
       "      <td>635.4</td>\n",
       "      <td>102.3</td>\n",
       "      <td>...</td>\n",
       "      <td>2229.2</td>\n",
       "      <td>2977.7</td>\n",
       "      <td>495.4</td>\n",
       "      <td>592.3</td>\n",
       "      <td>19653.8</td>\n",
       "      <td>2401.5</td>\n",
       "      <td>102.3</td>\n",
       "      <td>102.3</td>\n",
       "      <td>102.3</td>\n",
       "      <td>102.3</td>\n",
       "    </tr>\n",
       "    <tr>\n",
       "      <th>3</th>\n",
       "      <td>468.5</td>\n",
       "      <td>242.3</td>\n",
       "      <td>479.2</td>\n",
       "      <td>21576.2</td>\n",
       "      <td>463.1</td>\n",
       "      <td>1394.6</td>\n",
       "      <td>247.7</td>\n",
       "      <td>226.2</td>\n",
       "      <td>20655.4</td>\n",
       "      <td>1400.0</td>\n",
       "      <td>...</td>\n",
       "      <td>20671.5</td>\n",
       "      <td>21904.6</td>\n",
       "      <td>150.8</td>\n",
       "      <td>199.2</td>\n",
       "      <td>21856.2</td>\n",
       "      <td>355.4</td>\n",
       "      <td>215.4</td>\n",
       "      <td>20440.0</td>\n",
       "      <td>1615.4</td>\n",
       "      <td>21350.0</td>\n",
       "    </tr>\n",
       "    <tr>\n",
       "      <th>4</th>\n",
       "      <td>129.2</td>\n",
       "      <td>134.6</td>\n",
       "      <td>140.0</td>\n",
       "      <td>123.8</td>\n",
       "      <td>21958.5</td>\n",
       "      <td>96.9</td>\n",
       "      <td>80.8</td>\n",
       "      <td>21963.8</td>\n",
       "      <td>91.5</td>\n",
       "      <td>86.2</td>\n",
       "      <td>...</td>\n",
       "      <td>80.8</td>\n",
       "      <td>80.8</td>\n",
       "      <td>80.8</td>\n",
       "      <td>80.8</td>\n",
       "      <td>80.8</td>\n",
       "      <td>80.8</td>\n",
       "      <td>80.8</td>\n",
       "      <td>80.8</td>\n",
       "      <td>80.8</td>\n",
       "      <td>80.8</td>\n",
       "    </tr>\n",
       "  </tbody>\n",
       "</table>\n",
       "<p>5 rows × 67 columns</p>\n",
       "</div>"
      ],
      "text/plain": [
       "      F1     F2       F3       F4       F5      F6       F7       F8       F9  \\\n",
       "0  511.5  516.9  21710.8    344.6    339.2   506.2  21549.2  21883.1    172.3   \n",
       "1  393.1  387.7  21667.7    382.3    188.5    86.2    263.8    592.3    183.1   \n",
       "2  215.4  210.0    188.5    204.6    193.8   156.2    414.6   2363.8    635.4   \n",
       "3  468.5  242.3    479.2  21576.2    463.1  1394.6    247.7    226.2  20655.4   \n",
       "4  129.2  134.6    140.0    123.8  21958.5    96.9     80.8  21963.8     91.5   \n",
       "\n",
       "      F10  ...      F58      F59     F60      F61      F62      F63     F64  \\\n",
       "0   333.8  ...   1507.7  21759.2   296.2  20370.0   1685.4  21183.1   872.3   \n",
       "1   398.5  ...    306.9  20876.2  1179.2  22012.3    409.2  19702.3  2353.1   \n",
       "2   102.3  ...   2229.2   2977.7   495.4    592.3  19653.8   2401.5   102.3   \n",
       "3  1400.0  ...  20671.5  21904.6   150.8    199.2  21856.2    355.4   215.4   \n",
       "4    86.2  ...     80.8     80.8    80.8     80.8     80.8     80.8    80.8   \n",
       "\n",
       "       F65      F66      F67  \n",
       "0    866.9  20348.5   1706.9  \n",
       "1  21980.0   2347.7   1173.8  \n",
       "2    102.3    102.3    102.3  \n",
       "3  20440.0   1615.4  21350.0  \n",
       "4     80.8     80.8     80.8  \n",
       "\n",
       "[5 rows x 67 columns]"
      ]
     },
     "execution_count": 14,
     "metadata": {},
     "output_type": "execute_result"
    }
   ],
   "source": [
    "X.head()"
   ]
  },
  {
   "cell_type": "code",
   "execution_count": 15,
   "metadata": {},
   "outputs": [
    {
     "data": {
      "text/plain": [
       "138    8\n",
       "139    5\n",
       "140    7\n",
       "141    6\n",
       "142    8\n",
       "Name: Artist, dtype: int64"
      ]
     },
     "execution_count": 15,
     "metadata": {},
     "output_type": "execute_result"
    }
   ],
   "source": [
    "y.tail()"
   ]
  },
  {
   "cell_type": "code",
   "execution_count": 19,
   "metadata": {},
   "outputs": [],
   "source": [
    "from sklearn.model_selection import train_test_split\n",
    "X1, X2, y1, y2 = train_test_split(X, y, test_size=0.0005, random_state=6)"
   ]
  },
  {
   "cell_type": "code",
   "execution_count": 20,
   "metadata": {},
   "outputs": [
    {
     "data": {
      "text/plain": [
       "142"
      ]
     },
     "execution_count": 20,
     "metadata": {},
     "output_type": "execute_result"
    }
   ],
   "source": [
    "len(X1)"
   ]
  },
  {
   "cell_type": "raw",
   "metadata": {},
   "source": [
    "# Modified dataset\n",
    "X1['Artist']=y1\n",
    "X1.reset_index(inplace=True)\n",
    "X1.to_csv(dr+'audiodata.csv')"
   ]
  },
  {
   "cell_type": "code",
   "execution_count": 21,
   "metadata": {},
   "outputs": [
    {
     "data": {
      "text/html": [
       "<div>\n",
       "<style scoped>\n",
       "    .dataframe tbody tr th:only-of-type {\n",
       "        vertical-align: middle;\n",
       "    }\n",
       "\n",
       "    .dataframe tbody tr th {\n",
       "        vertical-align: top;\n",
       "    }\n",
       "\n",
       "    .dataframe thead th {\n",
       "        text-align: right;\n",
       "    }\n",
       "</style>\n",
       "<table border=\"1\" class=\"dataframe\">\n",
       "  <thead>\n",
       "    <tr style=\"text-align: right;\">\n",
       "      <th></th>\n",
       "      <th>F1</th>\n",
       "      <th>F2</th>\n",
       "      <th>F3</th>\n",
       "      <th>F4</th>\n",
       "      <th>F5</th>\n",
       "      <th>F6</th>\n",
       "      <th>F7</th>\n",
       "      <th>F8</th>\n",
       "      <th>F9</th>\n",
       "      <th>F10</th>\n",
       "      <th>...</th>\n",
       "      <th>F58</th>\n",
       "      <th>F59</th>\n",
       "      <th>F60</th>\n",
       "      <th>F61</th>\n",
       "      <th>F62</th>\n",
       "      <th>F63</th>\n",
       "      <th>F64</th>\n",
       "      <th>F65</th>\n",
       "      <th>F66</th>\n",
       "      <th>F67</th>\n",
       "    </tr>\n",
       "  </thead>\n",
       "  <tbody>\n",
       "    <tr>\n",
       "      <th>93</th>\n",
       "      <td>113.1</td>\n",
       "      <td>220.8</td>\n",
       "      <td>21807.7</td>\n",
       "      <td>247.7</td>\n",
       "      <td>204.6</td>\n",
       "      <td>107.7</td>\n",
       "      <td>21947.7</td>\n",
       "      <td>21953.1</td>\n",
       "      <td>102.3</td>\n",
       "      <td>96.9</td>\n",
       "      <td>...</td>\n",
       "      <td>554.6</td>\n",
       "      <td>4038.5</td>\n",
       "      <td>18016.9</td>\n",
       "      <td>3828.5</td>\n",
       "      <td>18226.9</td>\n",
       "      <td>4000.8</td>\n",
       "      <td>4130.0</td>\n",
       "      <td>3866.2</td>\n",
       "      <td>3936.2</td>\n",
       "      <td>18119.2</td>\n",
       "    </tr>\n",
       "    <tr>\n",
       "      <th>72</th>\n",
       "      <td>21468.5</td>\n",
       "      <td>586.9</td>\n",
       "      <td>576.2</td>\n",
       "      <td>285.4</td>\n",
       "      <td>269.2</td>\n",
       "      <td>290.8</td>\n",
       "      <td>21791.5</td>\n",
       "      <td>263.8</td>\n",
       "      <td>581.5</td>\n",
       "      <td>592.3</td>\n",
       "      <td>...</td>\n",
       "      <td>312.3</td>\n",
       "      <td>791.5</td>\n",
       "      <td>21263.8</td>\n",
       "      <td>1103.8</td>\n",
       "      <td>96.9</td>\n",
       "      <td>96.9</td>\n",
       "      <td>96.9</td>\n",
       "      <td>96.9</td>\n",
       "      <td>96.9</td>\n",
       "      <td>96.9</td>\n",
       "    </tr>\n",
       "    <tr>\n",
       "      <th>30</th>\n",
       "      <td>166.9</td>\n",
       "      <td>161.5</td>\n",
       "      <td>247.7</td>\n",
       "      <td>177.7</td>\n",
       "      <td>21565.4</td>\n",
       "      <td>490.0</td>\n",
       "      <td>18469.2</td>\n",
       "      <td>3586.2</td>\n",
       "      <td>484.6</td>\n",
       "      <td>667.7</td>\n",
       "      <td>...</td>\n",
       "      <td>2056.9</td>\n",
       "      <td>371.5</td>\n",
       "      <td>3343.8</td>\n",
       "      <td>350.0</td>\n",
       "      <td>3300.8</td>\n",
       "      <td>18754.6</td>\n",
       "      <td>549.2</td>\n",
       "      <td>2062.3</td>\n",
       "      <td>19993.1</td>\n",
       "      <td>3618.5</td>\n",
       "    </tr>\n",
       "    <tr>\n",
       "      <th>46</th>\n",
       "      <td>280.0</td>\n",
       "      <td>21899.2</td>\n",
       "      <td>156.2</td>\n",
       "      <td>656.9</td>\n",
       "      <td>662.3</td>\n",
       "      <td>21780.8</td>\n",
       "      <td>274.6</td>\n",
       "      <td>21893.8</td>\n",
       "      <td>161.5</td>\n",
       "      <td>328.5</td>\n",
       "      <td>...</td>\n",
       "      <td>20343.1</td>\n",
       "      <td>1712.3</td>\n",
       "      <td>441.5</td>\n",
       "      <td>21613.8</td>\n",
       "      <td>290.8</td>\n",
       "      <td>20230.0</td>\n",
       "      <td>1825.4</td>\n",
       "      <td>20445.4</td>\n",
       "      <td>1610.0</td>\n",
       "      <td>21915.4</td>\n",
       "    </tr>\n",
       "    <tr>\n",
       "      <th>87</th>\n",
       "      <td>123.8</td>\n",
       "      <td>134.6</td>\n",
       "      <td>118.5</td>\n",
       "      <td>140.0</td>\n",
       "      <td>21899.2</td>\n",
       "      <td>156.2</td>\n",
       "      <td>129.2</td>\n",
       "      <td>640.8</td>\n",
       "      <td>312.3</td>\n",
       "      <td>21743.1</td>\n",
       "      <td>...</td>\n",
       "      <td>193.8</td>\n",
       "      <td>204.6</td>\n",
       "      <td>21850.8</td>\n",
       "      <td>107.7</td>\n",
       "      <td>21705.4</td>\n",
       "      <td>350.0</td>\n",
       "      <td>791.5</td>\n",
       "      <td>21980.0</td>\n",
       "      <td>409.2</td>\n",
       "      <td>21759.2</td>\n",
       "    </tr>\n",
       "  </tbody>\n",
       "</table>\n",
       "<p>5 rows × 67 columns</p>\n",
       "</div>"
      ],
      "text/plain": [
       "         F1       F2       F3     F4       F5       F6       F7       F8  \\\n",
       "93    113.1    220.8  21807.7  247.7    204.6    107.7  21947.7  21953.1   \n",
       "72  21468.5    586.9    576.2  285.4    269.2    290.8  21791.5    263.8   \n",
       "30    166.9    161.5    247.7  177.7  21565.4    490.0  18469.2   3586.2   \n",
       "46    280.0  21899.2    156.2  656.9    662.3  21780.8    274.6  21893.8   \n",
       "87    123.8    134.6    118.5  140.0  21899.2    156.2    129.2    640.8   \n",
       "\n",
       "       F9      F10  ...      F58     F59      F60      F61      F62      F63  \\\n",
       "93  102.3     96.9  ...    554.6  4038.5  18016.9   3828.5  18226.9   4000.8   \n",
       "72  581.5    592.3  ...    312.3   791.5  21263.8   1103.8     96.9     96.9   \n",
       "30  484.6    667.7  ...   2056.9   371.5   3343.8    350.0   3300.8  18754.6   \n",
       "46  161.5    328.5  ...  20343.1  1712.3    441.5  21613.8    290.8  20230.0   \n",
       "87  312.3  21743.1  ...    193.8   204.6  21850.8    107.7  21705.4    350.0   \n",
       "\n",
       "       F64      F65      F66      F67  \n",
       "93  4130.0   3866.2   3936.2  18119.2  \n",
       "72    96.9     96.9     96.9     96.9  \n",
       "30   549.2   2062.3  19993.1   3618.5  \n",
       "46  1825.4  20445.4   1610.0  21915.4  \n",
       "87   791.5  21980.0    409.2  21759.2  \n",
       "\n",
       "[5 rows x 67 columns]"
      ]
     },
     "execution_count": 21,
     "metadata": {},
     "output_type": "execute_result"
    }
   ],
   "source": [
    "try:\n",
    "    X1=X1.drop('index',axis=1)\n",
    "except:\n",
    "    pass\n",
    "X1.head()"
   ]
  },
  {
   "cell_type": "code",
   "execution_count": 177,
   "metadata": {},
   "outputs": [
    {
     "data": {
      "text/plain": [
       "143"
      ]
     },
     "execution_count": 177,
     "metadata": {},
     "output_type": "execute_result"
    }
   ],
   "source": [
    "len(X1)"
   ]
  },
  {
   "cell_type": "markdown",
   "metadata": {},
   "source": [
    "### Count of Artist"
   ]
  },
  {
   "cell_type": "code",
   "execution_count": 53,
   "metadata": {},
   "outputs": [],
   "source": [
    "def find_len(directory):\n",
    "    import librosa\n",
    "    import numpy as np\n",
    "    import datetime\n",
    "    print(\"Current Directory: \",directory)\n",
    "    ln=[]\n",
    "    auddetails=[]\n",
    "    drlist=os.listdir(directory)\n",
    "    music=[]\n",
    "    ext=[\".wav\",\".mp3\"]\n",
    "    for i in drlist:\n",
    "        if i[-4:] in ext:\n",
    "            music.append(i)\n",
    "    #print(music)\n",
    "    for i in range(len(music)):\n",
    "        pk=[]\n",
    "        # Load local audio file\n",
    "        y, sr = librosa.load(directory+music[i])\n",
    "        # Get file duration in seconds\n",
    "        duration = librosa.get_duration(y)\n",
    "        #print(\"Duration of {}th File=> {}\".format(i,duration))\n",
    "        # Print duration to console\n",
    "        #print(\"File duration(s): \", str(datetime.timedelta(seconds=duration)))\n",
    "        # Find peaks\n",
    "        onset_env = librosa.onset.onset_strength(y=y, sr=sr,hop_length=512,aggregate=np.median)\n",
    "        peaks = librosa.util.peak_pick(onset_env, 3, 3, 3, 5, 0.5, 10)\n",
    "        pk.append(librosa.frames_to_time(peaks, sr=sr))\n",
    "        #print(len(pk[0]))\n",
    "        ln.append(len(pk[0]))\n",
    "        auddetails.append(list(pk[0]))\n",
    "    return ln,auddetails,music"
   ]
  },
  {
   "cell_type": "code",
   "execution_count": 54,
   "metadata": {},
   "outputs": [
    {
     "name": "stdout",
     "output_type": "stream",
     "text": [
      "Current Directory:  D:/As Freelancer/Projects/Speaker Recognition/wave/TRAIN/\n",
      "[33, 33, 25, 24, 31, 28, 25, 23, 27, 31, 25, 24, 31, 28, 25, 23, 27, 31, 33, 33, 34, 29, 29, 19, 19, 33, 36, 32, 34, 29, 29, 19, 19, 33, 36, 32, 35, 35, 20, 29, 25, 24, 25, 34, 33, 34, 20, 29, 25, 24, 25, 34, 33, 34, 30, 30, 31, 28, 26, 27, 33, 32, 32, 30, 31, 28, 26, 27, 33, 32, 32, 30, 34, 34, 28, 32, 31, 36, 32, 31, 32, 32, 28, 32, 31, 36, 32, 31, 32, 32, 26, 26, 26, 29, 35, 31, 32, 24, 24, 24, 26, 29, 35, 31, 32, 24, 24, 24, 32, 32, 28, 30, 29, 31, 35, 24, 31, 32, 28, 30, 29, 31, 35, 24, 31, 32, 26, 26, 28, 30, 30, 29, 32, 24, 25, 25, 28, 30, 30, 29, 32, 24, 25, 25]\n",
      "144\n",
      "Total Singers in Database 8\n",
      "Singers: \n",
      " ['Arijit Singh' 'Gulam Ali' 'Kumar Sanu' 'Manna' 'Nusrat' 'Rafi'\n",
      " 'Sonu Nigam' 'Udit Narayan']\n",
      "[1, 2, 3, 4, 5, 6, 7, 8]\n"
     ]
    }
   ],
   "source": [
    "dr=\"D:/As Freelancer/Projects/Speaker Recognition/wave/TRAIN/\"\n",
    "maxpeak,details,artist=find_len(dr)\n",
    "print(maxpeak)\n",
    "maxl=max(maxpeak)\n",
    "print(len(details))\n",
    "artnames=[]\n",
    "for i in artist:\n",
    "    artnames.append(i[:-6].strip('-'))\n",
    "art=np.unique(np.array(artnames))\n",
    "print(\"Total Singers in Database {}\".format(len(art)))\n",
    "print(\"Singers: \\n\",art)\n",
    "art_code=[i+1 for i in range(len(art))]\n",
    "print(art_code)"
   ]
  },
  {
   "cell_type": "markdown",
   "metadata": {},
   "source": [
    "### Determining Hyper Parameter"
   ]
  },
  {
   "cell_type": "code",
   "execution_count": 22,
   "metadata": {},
   "outputs": [],
   "source": [
    "rand_all=[]\n",
    "scr_all=[]\n",
    "match=[]"
   ]
  },
  {
   "cell_type": "code",
   "execution_count": 23,
   "metadata": {},
   "outputs": [],
   "source": [
    "def match_found(pred,y_test):\n",
    "    y_test_val=np.array(y_test)\n",
    "    y_test_val_u=np.unique(y_test_val)\n",
    "    cnt=[]\n",
    "    for i in range(len(y_test_val_u)):\n",
    "        cnt.append(y_test_val.tolist().count(y_test_val_u[i]))\n",
    "    pred_val=np.array(pred)\n",
    "    pred_val_u=np.unique(pred_val)\n",
    "    cnt1=[]\n",
    "    for i in range(len(pred_val_u)):\n",
    "        cnt1.append(pred_val.tolist().count(pred_val_u[i]))\n",
    "    return cnt1"
   ]
  },
  {
   "cell_type": "markdown",
   "metadata": {},
   "source": [
    "#### Using Random Forest Classifier"
   ]
  },
  {
   "cell_type": "code",
   "execution_count": 24,
   "metadata": {
    "scrolled": true
   },
   "outputs": [
    {
     "name": "stdout",
     "output_type": "stream",
     "text": [
      "Optimum Score: 100.00%\n",
      "Optimum Random State:  40\n"
     ]
    }
   ],
   "source": [
    "scr=[]\n",
    "rand_st=[]\n",
    "mtch=[]\n",
    "for i in range(0,50):\n",
    "    from sklearn.model_selection import train_test_split\n",
    "    from sklearn.ensemble import RandomForestClassifier\n",
    "    X_train, X_test, y_train, y_test = train_test_split(X1, y1, test_size=0.2, random_state=i)\n",
    "    clf = RandomForestClassifier(n_estimators=10)\n",
    "    clf.fit(X_train, y_train)\n",
    "    pred=clf.predict(X_test)\n",
    "    scr.append(clf.score(X_test,y_test))\n",
    "    rand_st.append(i)\n",
    "    mtch.append(match_found(pred,y_test))\n",
    "match.append(mtch[scr.index(max(scr))])\n",
    "max_state=rand_st[scr.index(max(scr))]\n",
    "print(\"Optimum Score: %0.2f\"%(max(scr)*100)+\"%\")\n",
    "print(\"Optimum Random State: \",max_state)\n",
    "rand_all.append(max_state)\n",
    "scr_all.append(eval(\"%0.2f\"%(max(scr)*100)))"
   ]
  },
  {
   "cell_type": "markdown",
   "metadata": {},
   "source": [
    "#### Using Logistic Regression"
   ]
  },
  {
   "cell_type": "code",
   "execution_count": 25,
   "metadata": {},
   "outputs": [
    {
     "name": "stdout",
     "output_type": "stream",
     "text": [
      "Optimum Score: 100.00%\n",
      "Optimum Random State:  32\n"
     ]
    }
   ],
   "source": [
    "scr=[]\n",
    "rand_st=[]\n",
    "mtch=[]\n",
    "for i in range(0,50):\n",
    "    from sklearn.model_selection import train_test_split\n",
    "    from sklearn.linear_model import LogisticRegression\n",
    "    X_train, X_test, y_train, y_test = train_test_split(X1, y1, test_size=0.2, random_state=i)\n",
    "    clf = LogisticRegression(solver='liblinear', max_iter=400, multi_class='auto')\n",
    "    clf.fit(X_train, y_train)\n",
    "    pred=clf.predict(X_test)\n",
    "    scr.append(clf.score(X_test,y_test))\n",
    "    rand_st.append(i)\n",
    "    mtch.append(match_found(pred,y_test))\n",
    "match.append(mtch[scr.index(max(scr))])\n",
    "max_state=rand_st[scr.index(max(scr))]\n",
    "print(\"Optimum Score: %0.2f\"%(max(scr)*100)+\"%\")\n",
    "print(\"Optimum Random State: \",max_state)\n",
    "rand_all.append(max_state)\n",
    "scr_all.append(eval(\"%0.2f\"%(max(scr)*100)))"
   ]
  },
  {
   "cell_type": "markdown",
   "metadata": {},
   "source": [
    "#### Using Decision Tree Classifier"
   ]
  },
  {
   "cell_type": "code",
   "execution_count": 26,
   "metadata": {},
   "outputs": [
    {
     "name": "stdout",
     "output_type": "stream",
     "text": [
      "Optimum Score: 100.00%\n",
      "Optimum Random State:  32\n"
     ]
    }
   ],
   "source": [
    "scr=[]\n",
    "rand_st=[]\n",
    "mtch=[]\n",
    "for i in range(0,50):\n",
    "    from sklearn.model_selection import train_test_split\n",
    "    from sklearn.tree import DecisionTreeClassifier\n",
    "    X_train, X_test, y_train, y_test = train_test_split(X1, y1, test_size=0.2, random_state=i)\n",
    "    clf = DecisionTreeClassifier()\n",
    "    clf.fit(X_train, y_train)\n",
    "    pred=clf.predict(X_test)\n",
    "    scr.append(clf.score(X_test,y_test))\n",
    "    rand_st.append(i)\n",
    "    mtch.append(match_found(pred,y_test))\n",
    "match.append(mtch[scr.index(max(scr))])\n",
    "max_state=rand_st[scr.index(max(scr))]\n",
    "print(\"Optimum Score: %0.2f\"%(max(scr)*100)+\"%\")\n",
    "print(\"Optimum Random State: \",max_state)\n",
    "rand_all.append(max_state)\n",
    "scr_all.append(eval(\"%0.2f\"%(max(scr)*100)))"
   ]
  },
  {
   "cell_type": "markdown",
   "metadata": {},
   "source": [
    "#### Using Naive Bayes"
   ]
  },
  {
   "cell_type": "code",
   "execution_count": 27,
   "metadata": {},
   "outputs": [
    {
     "name": "stdout",
     "output_type": "stream",
     "text": [
      "Optimum Score: 82.76%\n",
      "Optimum Random State:  39\n"
     ]
    }
   ],
   "source": [
    "scr=[]\n",
    "rand_st=[]\n",
    "mtch=[]\n",
    "for i in range(0,50):\n",
    "    from sklearn.model_selection import train_test_split\n",
    "    from sklearn.naive_bayes import GaussianNB\n",
    "    X_train, X_test, y_train, y_test = train_test_split(X1, y1, test_size=0.2, random_state=i)\n",
    "    clf = GaussianNB()\n",
    "    clf.fit(X_train, y_train)\n",
    "    pred=clf.predict(X_test)\n",
    "    scr.append(clf.score(X_test,y_test))\n",
    "    rand_st.append(i)\n",
    "    mtch.append(match_found(pred,y_test))\n",
    "match.append(mtch[scr.index(max(scr))])\n",
    "max_state=rand_st[scr.index(max(scr))]\n",
    "print(\"Optimum Score: %0.2f\"%(max(scr)*100)+\"%\")\n",
    "print(\"Optimum Random State: \",max_state)\n",
    "rand_all.append(max_state)\n",
    "scr_all.append(eval(\"%0.2f\"%(max(scr)*100)))"
   ]
  },
  {
   "cell_type": "markdown",
   "metadata": {},
   "source": [
    "#### Using K-Nearest Neighbor"
   ]
  },
  {
   "cell_type": "code",
   "execution_count": 28,
   "metadata": {},
   "outputs": [
    {
     "name": "stdout",
     "output_type": "stream",
     "text": [
      "Optimum Score: 37.93%\n",
      "Optimum Random State:  40\n"
     ]
    }
   ],
   "source": [
    "scr=[]\n",
    "rand_st=[]\n",
    "mtch=[]\n",
    "for i in range(0,50):\n",
    "    from sklearn.model_selection import train_test_split\n",
    "    from sklearn.neighbors import KNeighborsClassifier\n",
    "    X_train, X_test, y_train, y_test = train_test_split(X1, y1, test_size=0.2, random_state=i)\n",
    "    clf = KNeighborsClassifier(n_neighbors=3)\n",
    "    clf.fit(X_train, y_train)\n",
    "    pred=clf.predict(X_test)\n",
    "    scr.append(clf.score(X_test,y_test))\n",
    "    rand_st.append(i)\n",
    "    mtch.append(match_found(pred,y_test))\n",
    "match.append(mtch[scr.index(max(scr))])\n",
    "max_state=rand_st[scr.index(max(scr))]\n",
    "print(\"Optimum Score: %0.2f\"%(max(scr)*100)+\"%\")\n",
    "print(\"Optimum Random State: \",max_state)\n",
    "rand_all.append(max_state)\n",
    "scr_all.append(eval(\"%0.2f\"%(max(scr)*100)))"
   ]
  },
  {
   "cell_type": "markdown",
   "metadata": {},
   "source": [
    "#### Using ANN"
   ]
  },
  {
   "cell_type": "code",
   "execution_count": 29,
   "metadata": {},
   "outputs": [
    {
     "name": "stdout",
     "output_type": "stream",
     "text": [
      "Optimum Score: 100.00%\n",
      "Optimum Random State:  40\n"
     ]
    }
   ],
   "source": [
    "scr=[]\n",
    "rand_st=[]\n",
    "mtch=[]\n",
    "for i in range(0,50):\n",
    "    from sklearn.model_selection import train_test_split\n",
    "    from sklearn.neural_network import MLPClassifier\n",
    "    X_train, X_test, y_train, y_test = train_test_split(X1, y1, test_size=0.2, random_state=i)\n",
    "    clf = MLPClassifier()\n",
    "    clf.fit(X_train, y_train)\n",
    "    pred=clf.predict(X_test)\n",
    "    scr.append(clf.score(X_test,y_test))\n",
    "    rand_st.append(i)\n",
    "    mtch.append(match_found(pred,y_test))\n",
    "match.append(mtch[scr.index(max(scr))])\n",
    "max_state=rand_st[scr.index(max(scr))]\n",
    "print(\"Optimum Score: %0.2f\"%(max(scr)*100)+\"%\")\n",
    "print(\"Optimum Random State: \",max_state)\n",
    "rand_all.append(max_state)\n",
    "scr_all.append(eval(\"%0.2f\"%(max(scr)*100)))"
   ]
  },
  {
   "cell_type": "markdown",
   "metadata": {},
   "source": [
    "#### Using Guassian Process Classifier"
   ]
  },
  {
   "cell_type": "code",
   "execution_count": 30,
   "metadata": {},
   "outputs": [
    {
     "name": "stdout",
     "output_type": "stream",
     "text": [
      "Optimum Score: 100.00%\n",
      "Optimum Random State:  39\n"
     ]
    }
   ],
   "source": [
    "scr=[]\n",
    "rand_st=[]\n",
    "mtch=[]\n",
    "for i in range(0,50):\n",
    "    from sklearn.model_selection import train_test_split\n",
    "    from sklearn.gaussian_process import GaussianProcessClassifier\n",
    "    from sklearn.gaussian_process.kernels import RBF\n",
    "    X_train, X_test, y_train, y_test = train_test_split(X1, y1, test_size=0.2, random_state=i)\n",
    "    kernel = 1.0 * RBF(1.0)\n",
    "    clf = GaussianProcessClassifier(kernel=kernel,random_state=0)\n",
    "    clf.fit(X_train, y_train)\n",
    "    pred=clf.predict(X_test)\n",
    "    scr.append(clf.score(X_test,y_test))\n",
    "    rand_st.append(i)\n",
    "    mtch.append(match_found(pred,y_test))\n",
    "match.append(mtch[scr.index(max(scr))])\n",
    "max_state=rand_st[scr.index(max(scr))]\n",
    "print(\"Optimum Score: %0.2f\"%(max(scr)*100)+\"%\")\n",
    "print(\"Optimum Random State: \",max_state)\n",
    "rand_all.append(max_state)\n",
    "scr_all.append(eval(\"%0.2f\"%(max(scr)*100)))"
   ]
  },
  {
   "cell_type": "markdown",
   "metadata": {},
   "source": [
    "#### Using One Vs Rest Classifier"
   ]
  },
  {
   "cell_type": "code",
   "execution_count": 31,
   "metadata": {},
   "outputs": [
    {
     "name": "stdout",
     "output_type": "stream",
     "text": [
      "Optimum Score: 100.00%\n",
      "Optimum Random State:  32\n"
     ]
    }
   ],
   "source": [
    "scr=[]\n",
    "rand_st=[]\n",
    "mtch=[]\n",
    "for i in range(0,50):\n",
    "    from sklearn.model_selection import train_test_split\n",
    "    from sklearn.multiclass import OneVsRestClassifier\n",
    "    from sklearn.svm import LinearSVC\n",
    "    X_train, X_test, y_train, y_test = train_test_split(X1, y1, test_size=0.2, random_state=i)\n",
    "    clf=OneVsRestClassifier(LinearSVC(random_state=0))\n",
    "    clf.fit(X_train, y_train)\n",
    "    pred=clf.predict(X_test)\n",
    "    scr.append(clf.score(X_test,y_test))\n",
    "    rand_st.append(i)\n",
    "    mtch.append(match_found(pred,y_test))\n",
    "match.append(mtch[scr.index(max(scr))])\n",
    "max_state=rand_st[scr.index(max(scr))]\n",
    "print(\"Optimum Score: %0.2f\"%(max(scr)*100)+\"%\")\n",
    "print(\"Optimum Random State: \",max_state)\n",
    "rand_all.append(max_state)\n",
    "scr_all.append(eval(\"%0.2f\"%(max(scr)*100)))"
   ]
  },
  {
   "cell_type": "markdown",
   "metadata": {},
   "source": [
    "#### Summery of Initial Score Checking"
   ]
  },
  {
   "cell_type": "code",
   "execution_count": 32,
   "metadata": {},
   "outputs": [
    {
     "name": "stdout",
     "output_type": "stream",
     "text": [
      "Algorithms Checked as Follows: \n",
      "\n",
      "1. Score for 'Random Forest Classifier' is 100.0% with Random State 40\n",
      "2. Score for 'Logistic Regression' is 100.0% with Random State 32\n",
      "3. Score for 'Decision Tree Classifier' is 100.0% with Random State 32\n",
      "4. Score for 'Naive Bayes' is 82.76% with Random State 39\n",
      "5. Score for 'K-Nearest Neighbor' is 37.93% with Random State 40\n",
      "6. Score for 'MLP Classifier' is 100.0% with Random State 40\n",
      "7. Score for 'Gaussian Process Classifier' is 100.0% with Random State 39\n",
      "8. Score for 'One vs Rest Classifers' is 100.0% with Random State 32\n",
      "Maximum Score Obtained from 'Random Forest Classifier' with Random State 40\n"
     ]
    }
   ],
   "source": [
    "algos=['Random Forest Classifier','Logistic Regression','Decision Tree Classifier','Naive Bayes','K-Nearest Neighbor','MLP Classifier','Gaussian Process Classifier','One vs Rest Classifers']\n",
    "print(\"Algorithms Checked as Follows: \\n\")\n",
    "#print(\"Collection of all Optimum Obtained Score: \",scr_all)\n",
    "#print(\"Collection of all Optimum Random States: \",rand_all)\n",
    "algo=algos[scr_all.index(max(scr_all))]\n",
    "rand_state=rand_all[scr_all.index(max(scr_all))]\n",
    "for i in range(len(algos)):\n",
    "    print(\"{}. Score for '{}' is {}% with Random State {}\".format(i+1,algos[i],scr_all[i],rand_all[i]))\n",
    "algos[scr_all.index(max(scr_all))]\n",
    "print(\"Maximum Score Obtained from '{}' with Random State {}\".format(algos[scr_all.index(max(scr_all))],rand_all[scr_all.index(max(scr_all))]))\n",
    "#algos=['Original','Random Forest Classifier','Logistic Regression','Decision Tree Classifier','Naive Bayes','K-Nearest Neighbor','MLP Classifier','Gaussian Process Classifier','One vs Rest Classifers']"
   ]
  },
  {
   "cell_type": "code",
   "execution_count": null,
   "metadata": {},
   "outputs": [],
   "source": []
  },
  {
   "cell_type": "code",
   "execution_count": 33,
   "metadata": {},
   "outputs": [
    {
     "ename": "NameError",
     "evalue": "name 'y_test_val_u' is not defined",
     "output_type": "error",
     "traceback": [
      "\u001b[1;31m---------------------------------------------------------------------------\u001b[0m",
      "\u001b[1;31mNameError\u001b[0m                                 Traceback (most recent call last)",
      "\u001b[1;32m<ipython-input-33-ec2a8761a88f>\u001b[0m in \u001b[0;36m<module>\u001b[1;34m\u001b[0m\n\u001b[0;32m      1\u001b[0m \u001b[1;32mfor\u001b[0m \u001b[0mi\u001b[0m \u001b[1;32min\u001b[0m \u001b[0mmatch\u001b[0m\u001b[1;33m:\u001b[0m\u001b[1;33m\u001b[0m\u001b[1;33m\u001b[0m\u001b[0m\n\u001b[1;32m----> 2\u001b[1;33m     \u001b[1;32mif\u001b[0m \u001b[0mlen\u001b[0m\u001b[1;33m(\u001b[0m\u001b[0mi\u001b[0m\u001b[1;33m)\u001b[0m\u001b[1;33m<\u001b[0m\u001b[0mlen\u001b[0m\u001b[1;33m(\u001b[0m\u001b[0my_test_val_u\u001b[0m\u001b[1;33m)\u001b[0m\u001b[1;33m:\u001b[0m\u001b[1;33m\u001b[0m\u001b[1;33m\u001b[0m\u001b[0m\n\u001b[0m\u001b[0;32m      3\u001b[0m         \u001b[0mi\u001b[0m\u001b[1;33m.\u001b[0m\u001b[0mappend\u001b[0m\u001b[1;33m(\u001b[0m\u001b[1;36m0\u001b[0m\u001b[1;33m)\u001b[0m\u001b[1;33m\u001b[0m\u001b[1;33m\u001b[0m\u001b[0m\n\u001b[0;32m      4\u001b[0m \u001b[1;33m\u001b[0m\u001b[0m\n\u001b[0;32m      5\u001b[0m \u001b[0mprint\u001b[0m\u001b[1;33m(\u001b[0m\u001b[1;34m\"Match count by Algorithms: \\n\"\u001b[0m\u001b[1;33m,\u001b[0m\u001b[0mmatch\u001b[0m\u001b[1;33m)\u001b[0m\u001b[1;33m\u001b[0m\u001b[1;33m\u001b[0m\u001b[0m\n",
      "\u001b[1;31mNameError\u001b[0m: name 'y_test_val_u' is not defined"
     ]
    }
   ],
   "source": [
    "for i in match:\n",
    "    if len(i)<len(y_test_val_u):\n",
    "        i.append(0)\n",
    "\n",
    "print(\"Match count by Algorithms: \\n\",match)\n",
    "print(len(match))"
   ]
  },
  {
   "cell_type": "code",
   "execution_count": 230,
   "metadata": {},
   "outputs": [
    {
     "data": {
      "text/plain": [
       "[[5, 8, 4, 3, 5, 3, 1, 0],\n",
       " [5, 4, 1, 4, 3, 5, 2, 5],\n",
       " [1, 5, 6, 3, 2, 4, 5, 3],\n",
       " [1, 5, 6, 3, 2, 4, 5, 3],\n",
       " [8, 3, 4, 3, 2, 1, 5, 3],\n",
       " [5, 4, 1, 4, 3, 6, 1, 5],\n",
       " [4, 5, 3, 5, 3, 2, 2, 5],\n",
       " [5, 4, 1, 8, 1, 3, 2, 5]]"
      ]
     },
     "execution_count": 230,
     "metadata": {},
     "output_type": "execute_result"
    }
   ],
   "source": [
    "match"
   ]
  },
  {
   "cell_type": "code",
   "execution_count": 231,
   "metadata": {},
   "outputs": [
    {
     "name": "stdout",
     "output_type": "stream",
     "text": [
      "[5, 4, 1, 4, 3, 5, 2, 5]\n"
     ]
    }
   ],
   "source": [
    "print(match[1])\n",
    "Accu=pd.DataFrame({\n",
    "    i+1: match[i]\n",
    "    for i in range(len(match))\n",
    "})\n",
    "Accu[\"Model\"]= algos\n",
    "Accu[\"Accuracy\"]= scr_all\n",
    "Accu.to_csv(dr+\"Accuracy_Freq.csv\")"
   ]
  },
  {
   "cell_type": "code",
   "execution_count": 232,
   "metadata": {},
   "outputs": [
    {
     "data": {
      "text/html": [
       "<div>\n",
       "<style scoped>\n",
       "    .dataframe tbody tr th:only-of-type {\n",
       "        vertical-align: middle;\n",
       "    }\n",
       "\n",
       "    .dataframe tbody tr th {\n",
       "        vertical-align: top;\n",
       "    }\n",
       "\n",
       "    .dataframe thead th {\n",
       "        text-align: right;\n",
       "    }\n",
       "</style>\n",
       "<table border=\"1\" class=\"dataframe\">\n",
       "  <thead>\n",
       "    <tr style=\"text-align: right;\">\n",
       "      <th></th>\n",
       "      <th>1</th>\n",
       "      <th>2</th>\n",
       "      <th>3</th>\n",
       "      <th>4</th>\n",
       "      <th>5</th>\n",
       "      <th>6</th>\n",
       "      <th>7</th>\n",
       "      <th>8</th>\n",
       "      <th>Model</th>\n",
       "      <th>Accuracy</th>\n",
       "    </tr>\n",
       "  </thead>\n",
       "  <tbody>\n",
       "    <tr>\n",
       "      <th>0</th>\n",
       "      <td>5</td>\n",
       "      <td>5</td>\n",
       "      <td>1</td>\n",
       "      <td>1</td>\n",
       "      <td>8</td>\n",
       "      <td>5</td>\n",
       "      <td>4</td>\n",
       "      <td>5</td>\n",
       "      <td>Random Forest Classifier</td>\n",
       "      <td>100.00</td>\n",
       "    </tr>\n",
       "    <tr>\n",
       "      <th>1</th>\n",
       "      <td>8</td>\n",
       "      <td>4</td>\n",
       "      <td>5</td>\n",
       "      <td>5</td>\n",
       "      <td>3</td>\n",
       "      <td>4</td>\n",
       "      <td>5</td>\n",
       "      <td>4</td>\n",
       "      <td>Logistic Regression</td>\n",
       "      <td>82.76</td>\n",
       "    </tr>\n",
       "    <tr>\n",
       "      <th>2</th>\n",
       "      <td>4</td>\n",
       "      <td>1</td>\n",
       "      <td>6</td>\n",
       "      <td>6</td>\n",
       "      <td>4</td>\n",
       "      <td>1</td>\n",
       "      <td>3</td>\n",
       "      <td>1</td>\n",
       "      <td>Decision Tree Classifier</td>\n",
       "      <td>100.00</td>\n",
       "    </tr>\n",
       "    <tr>\n",
       "      <th>3</th>\n",
       "      <td>3</td>\n",
       "      <td>4</td>\n",
       "      <td>3</td>\n",
       "      <td>3</td>\n",
       "      <td>3</td>\n",
       "      <td>4</td>\n",
       "      <td>5</td>\n",
       "      <td>8</td>\n",
       "      <td>Naive Bayes</td>\n",
       "      <td>100.00</td>\n",
       "    </tr>\n",
       "    <tr>\n",
       "      <th>4</th>\n",
       "      <td>5</td>\n",
       "      <td>3</td>\n",
       "      <td>2</td>\n",
       "      <td>2</td>\n",
       "      <td>2</td>\n",
       "      <td>3</td>\n",
       "      <td>3</td>\n",
       "      <td>1</td>\n",
       "      <td>K-Nearest Neighbor</td>\n",
       "      <td>65.52</td>\n",
       "    </tr>\n",
       "  </tbody>\n",
       "</table>\n",
       "</div>"
      ],
      "text/plain": [
       "   1  2  3  4  5  6  7  8                     Model  Accuracy\n",
       "0  5  5  1  1  8  5  4  5  Random Forest Classifier    100.00\n",
       "1  8  4  5  5  3  4  5  4       Logistic Regression     82.76\n",
       "2  4  1  6  6  4  1  3  1  Decision Tree Classifier    100.00\n",
       "3  3  4  3  3  3  4  5  8               Naive Bayes    100.00\n",
       "4  5  3  2  2  2  3  3  1        K-Nearest Neighbor     65.52"
      ]
     },
     "execution_count": 232,
     "metadata": {},
     "output_type": "execute_result"
    }
   ],
   "source": [
    "Accu.head()"
   ]
  },
  {
   "cell_type": "markdown",
   "metadata": {},
   "source": [
    "### Test Train Split"
   ]
  },
  {
   "cell_type": "code",
   "execution_count": 34,
   "metadata": {},
   "outputs": [],
   "source": [
    "from sklearn.model_selection import train_test_split\n",
    "X_train, X_test, y_train, y_test = train_test_split(X1, y1, test_size=0.16, random_state=rand_state)"
   ]
  },
  {
   "cell_type": "code",
   "execution_count": 35,
   "metadata": {
    "scrolled": true
   },
   "outputs": [
    {
     "data": {
      "text/html": [
       "<div>\n",
       "<style scoped>\n",
       "    .dataframe tbody tr th:only-of-type {\n",
       "        vertical-align: middle;\n",
       "    }\n",
       "\n",
       "    .dataframe tbody tr th {\n",
       "        vertical-align: top;\n",
       "    }\n",
       "\n",
       "    .dataframe thead th {\n",
       "        text-align: right;\n",
       "    }\n",
       "</style>\n",
       "<table border=\"1\" class=\"dataframe\">\n",
       "  <thead>\n",
       "    <tr style=\"text-align: right;\">\n",
       "      <th></th>\n",
       "      <th>F1</th>\n",
       "      <th>F2</th>\n",
       "      <th>F3</th>\n",
       "      <th>F4</th>\n",
       "      <th>F5</th>\n",
       "      <th>F6</th>\n",
       "      <th>F7</th>\n",
       "      <th>F8</th>\n",
       "      <th>F9</th>\n",
       "      <th>F10</th>\n",
       "      <th>...</th>\n",
       "      <th>F58</th>\n",
       "      <th>F59</th>\n",
       "      <th>F60</th>\n",
       "      <th>F61</th>\n",
       "      <th>F62</th>\n",
       "      <th>F63</th>\n",
       "      <th>F64</th>\n",
       "      <th>F65</th>\n",
       "      <th>F66</th>\n",
       "      <th>F67</th>\n",
       "    </tr>\n",
       "  </thead>\n",
       "  <tbody>\n",
       "    <tr>\n",
       "      <th>28</th>\n",
       "      <td>21834.6</td>\n",
       "      <td>220.8</td>\n",
       "      <td>446.9</td>\n",
       "      <td>177.7</td>\n",
       "      <td>183.1</td>\n",
       "      <td>21872.3</td>\n",
       "      <td>215.4</td>\n",
       "      <td>193.8</td>\n",
       "      <td>21829.2</td>\n",
       "      <td>226.2</td>\n",
       "      <td>...</td>\n",
       "      <td>2040.8</td>\n",
       "      <td>21414.6</td>\n",
       "      <td>640.8</td>\n",
       "      <td>538.5</td>\n",
       "      <td>21516.9</td>\n",
       "      <td>576.2</td>\n",
       "      <td>21479.2</td>\n",
       "      <td>21409.2</td>\n",
       "      <td>646.2</td>\n",
       "      <td>360.8</td>\n",
       "    </tr>\n",
       "    <tr>\n",
       "      <th>40</th>\n",
       "      <td>96.9</td>\n",
       "      <td>193.8</td>\n",
       "      <td>21861.5</td>\n",
       "      <td>382.3</td>\n",
       "      <td>376.9</td>\n",
       "      <td>21678.5</td>\n",
       "      <td>398.5</td>\n",
       "      <td>21640.8</td>\n",
       "      <td>414.6</td>\n",
       "      <td>420.0</td>\n",
       "      <td>...</td>\n",
       "      <td>3586.2</td>\n",
       "      <td>18469.2</td>\n",
       "      <td>21963.8</td>\n",
       "      <td>91.5</td>\n",
       "      <td>1771.5</td>\n",
       "      <td>20283.8</td>\n",
       "      <td>80.8</td>\n",
       "      <td>80.8</td>\n",
       "      <td>80.8</td>\n",
       "      <td>80.8</td>\n",
       "    </tr>\n",
       "    <tr>\n",
       "      <th>30</th>\n",
       "      <td>166.9</td>\n",
       "      <td>161.5</td>\n",
       "      <td>247.7</td>\n",
       "      <td>177.7</td>\n",
       "      <td>21565.4</td>\n",
       "      <td>490.0</td>\n",
       "      <td>18469.2</td>\n",
       "      <td>3586.2</td>\n",
       "      <td>484.6</td>\n",
       "      <td>667.7</td>\n",
       "      <td>...</td>\n",
       "      <td>2056.9</td>\n",
       "      <td>371.5</td>\n",
       "      <td>3343.8</td>\n",
       "      <td>350.0</td>\n",
       "      <td>3300.8</td>\n",
       "      <td>18754.6</td>\n",
       "      <td>549.2</td>\n",
       "      <td>2062.3</td>\n",
       "      <td>19993.1</td>\n",
       "      <td>3618.5</td>\n",
       "    </tr>\n",
       "    <tr>\n",
       "      <th>104</th>\n",
       "      <td>21920.8</td>\n",
       "      <td>134.6</td>\n",
       "      <td>21134.6</td>\n",
       "      <td>920.8</td>\n",
       "      <td>150.8</td>\n",
       "      <td>21129.2</td>\n",
       "      <td>926.2</td>\n",
       "      <td>199.2</td>\n",
       "      <td>915.4</td>\n",
       "      <td>613.8</td>\n",
       "      <td>...</td>\n",
       "      <td>597.7</td>\n",
       "      <td>635.4</td>\n",
       "      <td>866.9</td>\n",
       "      <td>21974.6</td>\n",
       "      <td>80.8</td>\n",
       "      <td>80.8</td>\n",
       "      <td>80.8</td>\n",
       "      <td>80.8</td>\n",
       "      <td>80.8</td>\n",
       "      <td>80.8</td>\n",
       "    </tr>\n",
       "    <tr>\n",
       "      <th>59</th>\n",
       "      <td>231.5</td>\n",
       "      <td>236.9</td>\n",
       "      <td>468.5</td>\n",
       "      <td>463.1</td>\n",
       "      <td>242.3</td>\n",
       "      <td>931.5</td>\n",
       "      <td>21123.8</td>\n",
       "      <td>247.7</td>\n",
       "      <td>220.8</td>\n",
       "      <td>2089.2</td>\n",
       "      <td>...</td>\n",
       "      <td>19266.2</td>\n",
       "      <td>2789.2</td>\n",
       "      <td>16896.9</td>\n",
       "      <td>5158.5</td>\n",
       "      <td>5223.1</td>\n",
       "      <td>16832.3</td>\n",
       "      <td>19971.5</td>\n",
       "      <td>2083.8</td>\n",
       "      <td>662.3</td>\n",
       "      <td>479.2</td>\n",
       "    </tr>\n",
       "  </tbody>\n",
       "</table>\n",
       "<p>5 rows × 67 columns</p>\n",
       "</div>"
      ],
      "text/plain": [
       "          F1     F2       F3     F4       F5       F6       F7       F8  \\\n",
       "28   21834.6  220.8    446.9  177.7    183.1  21872.3    215.4    193.8   \n",
       "40      96.9  193.8  21861.5  382.3    376.9  21678.5    398.5  21640.8   \n",
       "30     166.9  161.5    247.7  177.7  21565.4    490.0  18469.2   3586.2   \n",
       "104  21920.8  134.6  21134.6  920.8    150.8  21129.2    926.2    199.2   \n",
       "59     231.5  236.9    468.5  463.1    242.3    931.5  21123.8    247.7   \n",
       "\n",
       "          F9     F10  ...      F58      F59      F60      F61      F62  \\\n",
       "28   21829.2   226.2  ...   2040.8  21414.6    640.8    538.5  21516.9   \n",
       "40     414.6   420.0  ...   3586.2  18469.2  21963.8     91.5   1771.5   \n",
       "30     484.6   667.7  ...   2056.9    371.5   3343.8    350.0   3300.8   \n",
       "104    915.4   613.8  ...    597.7    635.4    866.9  21974.6     80.8   \n",
       "59     220.8  2089.2  ...  19266.2   2789.2  16896.9   5158.5   5223.1   \n",
       "\n",
       "         F63      F64      F65      F66     F67  \n",
       "28     576.2  21479.2  21409.2    646.2   360.8  \n",
       "40   20283.8     80.8     80.8     80.8    80.8  \n",
       "30   18754.6    549.2   2062.3  19993.1  3618.5  \n",
       "104     80.8     80.8     80.8     80.8    80.8  \n",
       "59   16832.3  19971.5   2083.8    662.3   479.2  \n",
       "\n",
       "[5 rows x 67 columns]"
      ]
     },
     "execution_count": 35,
     "metadata": {},
     "output_type": "execute_result"
    }
   ],
   "source": [
    "X_train.head()"
   ]
  },
  {
   "cell_type": "code",
   "execution_count": 36,
   "metadata": {},
   "outputs": [
    {
     "data": {
      "text/plain": [
       "93    1\n",
       "72    7\n",
       "30    6\n",
       "46    4\n",
       "87    2\n",
       "Name: Artist, dtype: int64"
      ]
     },
     "execution_count": 36,
     "metadata": {},
     "output_type": "execute_result"
    }
   ],
   "source": [
    "y1.head()"
   ]
  },
  {
   "cell_type": "markdown",
   "metadata": {},
   "source": [
    "### Statistical Test"
   ]
  },
  {
   "cell_type": "markdown",
   "metadata": {},
   "source": [
    "#### Dataset Description"
   ]
  },
  {
   "cell_type": "code",
   "execution_count": 37,
   "metadata": {},
   "outputs": [
    {
     "name": "stderr",
     "output_type": "stream",
     "text": [
      "c:\\users\\comp\\appdata\\local\\programs\\python\\python36\\lib\\site-packages\\ipykernel_launcher.py:2: SettingWithCopyWarning: \n",
      "A value is trying to be set on a copy of a slice from a DataFrame.\n",
      "Try using .loc[row_indexer,col_indexer] = value instead\n",
      "\n",
      "See the caveats in the documentation: http://pandas.pydata.org/pandas-docs/stable/user_guide/indexing.html#returning-a-view-versus-a-copy\n",
      "  \n"
     ]
    },
    {
     "data": {
      "text/html": [
       "<div>\n",
       "<style scoped>\n",
       "    .dataframe tbody tr th:only-of-type {\n",
       "        vertical-align: middle;\n",
       "    }\n",
       "\n",
       "    .dataframe tbody tr th {\n",
       "        vertical-align: top;\n",
       "    }\n",
       "\n",
       "    .dataframe thead th {\n",
       "        text-align: right;\n",
       "    }\n",
       "</style>\n",
       "<table border=\"1\" class=\"dataframe\">\n",
       "  <thead>\n",
       "    <tr style=\"text-align: right;\">\n",
       "      <th></th>\n",
       "      <th>F1</th>\n",
       "      <th>F2</th>\n",
       "      <th>F3</th>\n",
       "      <th>F4</th>\n",
       "      <th>F5</th>\n",
       "      <th>F6</th>\n",
       "      <th>F7</th>\n",
       "      <th>F8</th>\n",
       "      <th>F9</th>\n",
       "      <th>F10</th>\n",
       "      <th>...</th>\n",
       "      <th>F59</th>\n",
       "      <th>F60</th>\n",
       "      <th>F61</th>\n",
       "      <th>F62</th>\n",
       "      <th>F63</th>\n",
       "      <th>F64</th>\n",
       "      <th>F65</th>\n",
       "      <th>F66</th>\n",
       "      <th>F67</th>\n",
       "      <th>Artist</th>\n",
       "    </tr>\n",
       "  </thead>\n",
       "  <tbody>\n",
       "    <tr>\n",
       "      <th>93</th>\n",
       "      <td>113.1</td>\n",
       "      <td>220.8</td>\n",
       "      <td>21807.7</td>\n",
       "      <td>247.7</td>\n",
       "      <td>204.6</td>\n",
       "      <td>107.7</td>\n",
       "      <td>21947.7</td>\n",
       "      <td>21953.1</td>\n",
       "      <td>102.3</td>\n",
       "      <td>96.9</td>\n",
       "      <td>...</td>\n",
       "      <td>4038.5</td>\n",
       "      <td>18016.9</td>\n",
       "      <td>3828.5</td>\n",
       "      <td>18226.9</td>\n",
       "      <td>4000.8</td>\n",
       "      <td>4130.0</td>\n",
       "      <td>3866.2</td>\n",
       "      <td>3936.2</td>\n",
       "      <td>18119.2</td>\n",
       "      <td>1</td>\n",
       "    </tr>\n",
       "    <tr>\n",
       "      <th>72</th>\n",
       "      <td>21468.5</td>\n",
       "      <td>586.9</td>\n",
       "      <td>576.2</td>\n",
       "      <td>285.4</td>\n",
       "      <td>269.2</td>\n",
       "      <td>290.8</td>\n",
       "      <td>21791.5</td>\n",
       "      <td>263.8</td>\n",
       "      <td>581.5</td>\n",
       "      <td>592.3</td>\n",
       "      <td>...</td>\n",
       "      <td>791.5</td>\n",
       "      <td>21263.8</td>\n",
       "      <td>1103.8</td>\n",
       "      <td>96.9</td>\n",
       "      <td>96.9</td>\n",
       "      <td>96.9</td>\n",
       "      <td>96.9</td>\n",
       "      <td>96.9</td>\n",
       "      <td>96.9</td>\n",
       "      <td>7</td>\n",
       "    </tr>\n",
       "    <tr>\n",
       "      <th>30</th>\n",
       "      <td>166.9</td>\n",
       "      <td>161.5</td>\n",
       "      <td>247.7</td>\n",
       "      <td>177.7</td>\n",
       "      <td>21565.4</td>\n",
       "      <td>490.0</td>\n",
       "      <td>18469.2</td>\n",
       "      <td>3586.2</td>\n",
       "      <td>484.6</td>\n",
       "      <td>667.7</td>\n",
       "      <td>...</td>\n",
       "      <td>371.5</td>\n",
       "      <td>3343.8</td>\n",
       "      <td>350.0</td>\n",
       "      <td>3300.8</td>\n",
       "      <td>18754.6</td>\n",
       "      <td>549.2</td>\n",
       "      <td>2062.3</td>\n",
       "      <td>19993.1</td>\n",
       "      <td>3618.5</td>\n",
       "      <td>6</td>\n",
       "    </tr>\n",
       "    <tr>\n",
       "      <th>46</th>\n",
       "      <td>280.0</td>\n",
       "      <td>21899.2</td>\n",
       "      <td>156.2</td>\n",
       "      <td>656.9</td>\n",
       "      <td>662.3</td>\n",
       "      <td>21780.8</td>\n",
       "      <td>274.6</td>\n",
       "      <td>21893.8</td>\n",
       "      <td>161.5</td>\n",
       "      <td>328.5</td>\n",
       "      <td>...</td>\n",
       "      <td>1712.3</td>\n",
       "      <td>441.5</td>\n",
       "      <td>21613.8</td>\n",
       "      <td>290.8</td>\n",
       "      <td>20230.0</td>\n",
       "      <td>1825.4</td>\n",
       "      <td>20445.4</td>\n",
       "      <td>1610.0</td>\n",
       "      <td>21915.4</td>\n",
       "      <td>4</td>\n",
       "    </tr>\n",
       "    <tr>\n",
       "      <th>87</th>\n",
       "      <td>123.8</td>\n",
       "      <td>134.6</td>\n",
       "      <td>118.5</td>\n",
       "      <td>140.0</td>\n",
       "      <td>21899.2</td>\n",
       "      <td>156.2</td>\n",
       "      <td>129.2</td>\n",
       "      <td>640.8</td>\n",
       "      <td>312.3</td>\n",
       "      <td>21743.1</td>\n",
       "      <td>...</td>\n",
       "      <td>204.6</td>\n",
       "      <td>21850.8</td>\n",
       "      <td>107.7</td>\n",
       "      <td>21705.4</td>\n",
       "      <td>350.0</td>\n",
       "      <td>791.5</td>\n",
       "      <td>21980.0</td>\n",
       "      <td>409.2</td>\n",
       "      <td>21759.2</td>\n",
       "      <td>2</td>\n",
       "    </tr>\n",
       "  </tbody>\n",
       "</table>\n",
       "<p>5 rows × 68 columns</p>\n",
       "</div>"
      ],
      "text/plain": [
       "         F1       F2       F3     F4       F5       F6       F7       F8  \\\n",
       "93    113.1    220.8  21807.7  247.7    204.6    107.7  21947.7  21953.1   \n",
       "72  21468.5    586.9    576.2  285.4    269.2    290.8  21791.5    263.8   \n",
       "30    166.9    161.5    247.7  177.7  21565.4    490.0  18469.2   3586.2   \n",
       "46    280.0  21899.2    156.2  656.9    662.3  21780.8    274.6  21893.8   \n",
       "87    123.8    134.6    118.5  140.0  21899.2    156.2    129.2    640.8   \n",
       "\n",
       "       F9      F10  ...     F59      F60      F61      F62      F63     F64  \\\n",
       "93  102.3     96.9  ...  4038.5  18016.9   3828.5  18226.9   4000.8  4130.0   \n",
       "72  581.5    592.3  ...   791.5  21263.8   1103.8     96.9     96.9    96.9   \n",
       "30  484.6    667.7  ...   371.5   3343.8    350.0   3300.8  18754.6   549.2   \n",
       "46  161.5    328.5  ...  1712.3    441.5  21613.8    290.8  20230.0  1825.4   \n",
       "87  312.3  21743.1  ...   204.6  21850.8    107.7  21705.4    350.0   791.5   \n",
       "\n",
       "        F65      F66      F67  Artist  \n",
       "93   3866.2   3936.2  18119.2       1  \n",
       "72     96.9     96.9     96.9       7  \n",
       "30   2062.3  19993.1   3618.5       6  \n",
       "46  20445.4   1610.0  21915.4       4  \n",
       "87  21980.0    409.2  21759.2       2  \n",
       "\n",
       "[5 rows x 68 columns]"
      ]
     },
     "execution_count": 37,
     "metadata": {},
     "output_type": "execute_result"
    }
   ],
   "source": [
    "Audio_Data=X1\n",
    "Audio_Data['Artist']=y1\n",
    "Audio_Data.head()"
   ]
  },
  {
   "cell_type": "code",
   "execution_count": 38,
   "metadata": {},
   "outputs": [
    {
     "data": {
      "text/html": [
       "<div>\n",
       "<style scoped>\n",
       "    .dataframe tbody tr th:only-of-type {\n",
       "        vertical-align: middle;\n",
       "    }\n",
       "\n",
       "    .dataframe tbody tr th {\n",
       "        vertical-align: top;\n",
       "    }\n",
       "\n",
       "    .dataframe thead th {\n",
       "        text-align: right;\n",
       "    }\n",
       "</style>\n",
       "<table border=\"1\" class=\"dataframe\">\n",
       "  <thead>\n",
       "    <tr style=\"text-align: right;\">\n",
       "      <th></th>\n",
       "      <th>F1</th>\n",
       "      <th>F2</th>\n",
       "      <th>F3</th>\n",
       "      <th>F4</th>\n",
       "      <th>F5</th>\n",
       "      <th>F6</th>\n",
       "      <th>F7</th>\n",
       "      <th>F8</th>\n",
       "      <th>F9</th>\n",
       "      <th>F10</th>\n",
       "      <th>...</th>\n",
       "      <th>F59</th>\n",
       "      <th>F60</th>\n",
       "      <th>F61</th>\n",
       "      <th>F62</th>\n",
       "      <th>F63</th>\n",
       "      <th>F64</th>\n",
       "      <th>F65</th>\n",
       "      <th>F66</th>\n",
       "      <th>F67</th>\n",
       "      <th>Artist</th>\n",
       "    </tr>\n",
       "  </thead>\n",
       "  <tbody>\n",
       "    <tr>\n",
       "      <th>count</th>\n",
       "      <td>142.000000</td>\n",
       "      <td>142.000000</td>\n",
       "      <td>142.000000</td>\n",
       "      <td>142.000000</td>\n",
       "      <td>142.000000</td>\n",
       "      <td>142.000000</td>\n",
       "      <td>142.000000</td>\n",
       "      <td>142.000000</td>\n",
       "      <td>142.000000</td>\n",
       "      <td>142.000000</td>\n",
       "      <td>...</td>\n",
       "      <td>142.000000</td>\n",
       "      <td>142.000000</td>\n",
       "      <td>142.000000</td>\n",
       "      <td>142.000000</td>\n",
       "      <td>142.000000</td>\n",
       "      <td>142.000000</td>\n",
       "      <td>142.000000</td>\n",
       "      <td>142.000000</td>\n",
       "      <td>142.000000</td>\n",
       "      <td>142.000000</td>\n",
       "    </tr>\n",
       "    <tr>\n",
       "      <th>mean</th>\n",
       "      <td>5706.208451</td>\n",
       "      <td>4134.736620</td>\n",
       "      <td>7116.947183</td>\n",
       "      <td>3077.573239</td>\n",
       "      <td>6809.561268</td>\n",
       "      <td>6908.850704</td>\n",
       "      <td>6611.885915</td>\n",
       "      <td>6441.442254</td>\n",
       "      <td>5724.376761</td>\n",
       "      <td>3553.204930</td>\n",
       "      <td>...</td>\n",
       "      <td>7566.788028</td>\n",
       "      <td>7543.576056</td>\n",
       "      <td>7725.445070</td>\n",
       "      <td>6563.813380</td>\n",
       "      <td>7452.880986</td>\n",
       "      <td>3793.497183</td>\n",
       "      <td>5459.284507</td>\n",
       "      <td>4908.429577</td>\n",
       "      <td>3233.315493</td>\n",
       "      <td>4.492958</td>\n",
       "    </tr>\n",
       "    <tr>\n",
       "      <th>std</th>\n",
       "      <td>9239.825681</td>\n",
       "      <td>8140.683111</td>\n",
       "      <td>9947.779970</td>\n",
       "      <td>7138.747398</td>\n",
       "      <td>9810.085004</td>\n",
       "      <td>9795.844073</td>\n",
       "      <td>9573.517108</td>\n",
       "      <td>9386.500189</td>\n",
       "      <td>9114.983763</td>\n",
       "      <td>7429.559633</td>\n",
       "      <td>...</td>\n",
       "      <td>9410.513502</td>\n",
       "      <td>9514.312103</td>\n",
       "      <td>9611.437231</td>\n",
       "      <td>8848.588964</td>\n",
       "      <td>9335.758889</td>\n",
       "      <td>6962.185005</td>\n",
       "      <td>8517.783512</td>\n",
       "      <td>8153.174441</td>\n",
       "      <td>6827.678147</td>\n",
       "      <td>2.302470</td>\n",
       "    </tr>\n",
       "    <tr>\n",
       "      <th>min</th>\n",
       "      <td>80.800000</td>\n",
       "      <td>86.200000</td>\n",
       "      <td>86.200000</td>\n",
       "      <td>86.200000</td>\n",
       "      <td>96.900000</td>\n",
       "      <td>80.800000</td>\n",
       "      <td>80.800000</td>\n",
       "      <td>91.500000</td>\n",
       "      <td>91.500000</td>\n",
       "      <td>80.800000</td>\n",
       "      <td>...</td>\n",
       "      <td>80.800000</td>\n",
       "      <td>80.800000</td>\n",
       "      <td>80.800000</td>\n",
       "      <td>80.800000</td>\n",
       "      <td>80.800000</td>\n",
       "      <td>80.800000</td>\n",
       "      <td>80.800000</td>\n",
       "      <td>80.800000</td>\n",
       "      <td>80.800000</td>\n",
       "      <td>1.000000</td>\n",
       "    </tr>\n",
       "    <tr>\n",
       "      <th>25%</th>\n",
       "      <td>231.500000</td>\n",
       "      <td>204.600000</td>\n",
       "      <td>231.500000</td>\n",
       "      <td>177.700000</td>\n",
       "      <td>204.600000</td>\n",
       "      <td>231.500000</td>\n",
       "      <td>199.200000</td>\n",
       "      <td>285.400000</td>\n",
       "      <td>220.800000</td>\n",
       "      <td>230.225000</td>\n",
       "      <td>...</td>\n",
       "      <td>367.525000</td>\n",
       "      <td>308.250000</td>\n",
       "      <td>379.575000</td>\n",
       "      <td>409.200000</td>\n",
       "      <td>350.000000</td>\n",
       "      <td>277.275000</td>\n",
       "      <td>122.500000</td>\n",
       "      <td>96.900000</td>\n",
       "      <td>92.850000</td>\n",
       "      <td>2.250000</td>\n",
       "    </tr>\n",
       "    <tr>\n",
       "      <th>50%</th>\n",
       "      <td>487.350000</td>\n",
       "      <td>368.850000</td>\n",
       "      <td>457.700000</td>\n",
       "      <td>301.500000</td>\n",
       "      <td>484.600000</td>\n",
       "      <td>562.700000</td>\n",
       "      <td>457.700000</td>\n",
       "      <td>584.250000</td>\n",
       "      <td>479.200000</td>\n",
       "      <td>500.800000</td>\n",
       "      <td>...</td>\n",
       "      <td>1394.600000</td>\n",
       "      <td>866.900000</td>\n",
       "      <td>1173.800000</td>\n",
       "      <td>1685.400000</td>\n",
       "      <td>1023.100000</td>\n",
       "      <td>732.300000</td>\n",
       "      <td>705.400000</td>\n",
       "      <td>490.000000</td>\n",
       "      <td>309.600000</td>\n",
       "      <td>4.500000</td>\n",
       "    </tr>\n",
       "    <tr>\n",
       "      <th>75%</th>\n",
       "      <td>1846.900000</td>\n",
       "      <td>700.000000</td>\n",
       "      <td>21463.100000</td>\n",
       "      <td>592.325000</td>\n",
       "      <td>21409.200000</td>\n",
       "      <td>21543.800000</td>\n",
       "      <td>20940.750000</td>\n",
       "      <td>20935.400000</td>\n",
       "      <td>14253.100000</td>\n",
       "      <td>955.725000</td>\n",
       "      <td>...</td>\n",
       "      <td>20476.375000</td>\n",
       "      <td>20504.600000</td>\n",
       "      <td>20406.375000</td>\n",
       "      <td>19014.400000</td>\n",
       "      <td>19984.975000</td>\n",
       "      <td>2089.200000</td>\n",
       "      <td>3757.075000</td>\n",
       "      <td>3797.500000</td>\n",
       "      <td>1472.725000</td>\n",
       "      <td>6.000000</td>\n",
       "    </tr>\n",
       "    <tr>\n",
       "      <th>max</th>\n",
       "      <td>21969.200000</td>\n",
       "      <td>21947.700000</td>\n",
       "      <td>21985.400000</td>\n",
       "      <td>21980.000000</td>\n",
       "      <td>22023.100000</td>\n",
       "      <td>21990.800000</td>\n",
       "      <td>21947.700000</td>\n",
       "      <td>21980.000000</td>\n",
       "      <td>21899.200000</td>\n",
       "      <td>21958.500000</td>\n",
       "      <td>...</td>\n",
       "      <td>21974.600000</td>\n",
       "      <td>21963.800000</td>\n",
       "      <td>22012.300000</td>\n",
       "      <td>21888.500000</td>\n",
       "      <td>21840.000000</td>\n",
       "      <td>21861.500000</td>\n",
       "      <td>21980.000000</td>\n",
       "      <td>21823.800000</td>\n",
       "      <td>21915.400000</td>\n",
       "      <td>8.000000</td>\n",
       "    </tr>\n",
       "  </tbody>\n",
       "</table>\n",
       "<p>8 rows × 68 columns</p>\n",
       "</div>"
      ],
      "text/plain": [
       "                 F1            F2            F3            F4            F5  \\\n",
       "count    142.000000    142.000000    142.000000    142.000000    142.000000   \n",
       "mean    5706.208451   4134.736620   7116.947183   3077.573239   6809.561268   \n",
       "std     9239.825681   8140.683111   9947.779970   7138.747398   9810.085004   \n",
       "min       80.800000     86.200000     86.200000     86.200000     96.900000   \n",
       "25%      231.500000    204.600000    231.500000    177.700000    204.600000   \n",
       "50%      487.350000    368.850000    457.700000    301.500000    484.600000   \n",
       "75%     1846.900000    700.000000  21463.100000    592.325000  21409.200000   \n",
       "max    21969.200000  21947.700000  21985.400000  21980.000000  22023.100000   \n",
       "\n",
       "                 F6            F7            F8            F9           F10  \\\n",
       "count    142.000000    142.000000    142.000000    142.000000    142.000000   \n",
       "mean    6908.850704   6611.885915   6441.442254   5724.376761   3553.204930   \n",
       "std     9795.844073   9573.517108   9386.500189   9114.983763   7429.559633   \n",
       "min       80.800000     80.800000     91.500000     91.500000     80.800000   \n",
       "25%      231.500000    199.200000    285.400000    220.800000    230.225000   \n",
       "50%      562.700000    457.700000    584.250000    479.200000    500.800000   \n",
       "75%    21543.800000  20940.750000  20935.400000  14253.100000    955.725000   \n",
       "max    21990.800000  21947.700000  21980.000000  21899.200000  21958.500000   \n",
       "\n",
       "       ...           F59           F60           F61           F62  \\\n",
       "count  ...    142.000000    142.000000    142.000000    142.000000   \n",
       "mean   ...   7566.788028   7543.576056   7725.445070   6563.813380   \n",
       "std    ...   9410.513502   9514.312103   9611.437231   8848.588964   \n",
       "min    ...     80.800000     80.800000     80.800000     80.800000   \n",
       "25%    ...    367.525000    308.250000    379.575000    409.200000   \n",
       "50%    ...   1394.600000    866.900000   1173.800000   1685.400000   \n",
       "75%    ...  20476.375000  20504.600000  20406.375000  19014.400000   \n",
       "max    ...  21974.600000  21963.800000  22012.300000  21888.500000   \n",
       "\n",
       "                F63           F64           F65           F66           F67  \\\n",
       "count    142.000000    142.000000    142.000000    142.000000    142.000000   \n",
       "mean    7452.880986   3793.497183   5459.284507   4908.429577   3233.315493   \n",
       "std     9335.758889   6962.185005   8517.783512   8153.174441   6827.678147   \n",
       "min       80.800000     80.800000     80.800000     80.800000     80.800000   \n",
       "25%      350.000000    277.275000    122.500000     96.900000     92.850000   \n",
       "50%     1023.100000    732.300000    705.400000    490.000000    309.600000   \n",
       "75%    19984.975000   2089.200000   3757.075000   3797.500000   1472.725000   \n",
       "max    21840.000000  21861.500000  21980.000000  21823.800000  21915.400000   \n",
       "\n",
       "           Artist  \n",
       "count  142.000000  \n",
       "mean     4.492958  \n",
       "std      2.302470  \n",
       "min      1.000000  \n",
       "25%      2.250000  \n",
       "50%      4.500000  \n",
       "75%      6.000000  \n",
       "max      8.000000  \n",
       "\n",
       "[8 rows x 68 columns]"
      ]
     },
     "execution_count": 38,
     "metadata": {},
     "output_type": "execute_result"
    }
   ],
   "source": [
    "Audio_Data.describe()"
   ]
  },
  {
   "cell_type": "code",
   "execution_count": 39,
   "metadata": {
    "collapsed": true
   },
   "outputs": [
    {
     "name": "stdout",
     "output_type": "stream",
     "text": [
      "<class 'pandas.core.frame.DataFrame'>\n",
      "Int64Index: 142 entries, 93 to 138\n",
      "Data columns (total 68 columns):\n",
      "F1        142 non-null float64\n",
      "F2        142 non-null float64\n",
      "F3        142 non-null float64\n",
      "F4        142 non-null float64\n",
      "F5        142 non-null float64\n",
      "F6        142 non-null float64\n",
      "F7        142 non-null float64\n",
      "F8        142 non-null float64\n",
      "F9        142 non-null float64\n",
      "F10       142 non-null float64\n",
      "F11       142 non-null float64\n",
      "F12       142 non-null float64\n",
      "F13       142 non-null float64\n",
      "F14       142 non-null float64\n",
      "F15       142 non-null float64\n",
      "F16       142 non-null float64\n",
      "F17       142 non-null float64\n",
      "F18       142 non-null float64\n",
      "F19       142 non-null float64\n",
      "F20       142 non-null float64\n",
      "F21       142 non-null float64\n",
      "F22       142 non-null float64\n",
      "F23       142 non-null float64\n",
      "F24       142 non-null float64\n",
      "F25       142 non-null float64\n",
      "F26       142 non-null float64\n",
      "F27       142 non-null float64\n",
      "F28       142 non-null float64\n",
      "F29       142 non-null float64\n",
      "F30       142 non-null float64\n",
      "F31       142 non-null float64\n",
      "F32       142 non-null float64\n",
      "F33       142 non-null float64\n",
      "F34       142 non-null float64\n",
      "F35       142 non-null float64\n",
      "F36       142 non-null float64\n",
      "F37       142 non-null float64\n",
      "F38       142 non-null float64\n",
      "F39       142 non-null float64\n",
      "F40       142 non-null float64\n",
      "F41       142 non-null float64\n",
      "F42       142 non-null float64\n",
      "F43       142 non-null float64\n",
      "F44       142 non-null float64\n",
      "F45       142 non-null float64\n",
      "F46       142 non-null float64\n",
      "F47       142 non-null float64\n",
      "F48       142 non-null float64\n",
      "F49       142 non-null float64\n",
      "F50       142 non-null float64\n",
      "F51       142 non-null float64\n",
      "F52       142 non-null float64\n",
      "F53       142 non-null float64\n",
      "F54       142 non-null float64\n",
      "F55       142 non-null float64\n",
      "F56       142 non-null float64\n",
      "F57       142 non-null float64\n",
      "F58       142 non-null float64\n",
      "F59       142 non-null float64\n",
      "F60       142 non-null float64\n",
      "F61       142 non-null float64\n",
      "F62       142 non-null float64\n",
      "F63       142 non-null float64\n",
      "F64       142 non-null float64\n",
      "F65       142 non-null float64\n",
      "F66       142 non-null float64\n",
      "F67       142 non-null float64\n",
      "Artist    142 non-null int64\n",
      "dtypes: float64(67), int64(1)\n",
      "memory usage: 76.5 KB\n"
     ]
    }
   ],
   "source": [
    "Audio_Data.info()"
   ]
  },
  {
   "cell_type": "markdown",
   "metadata": {},
   "source": [
    "#### Correlation"
   ]
  },
  {
   "cell_type": "raw",
   "metadata": {},
   "source": [
    "import matplotlib.pyplot as plt\n",
    "import seaborn as sns\n",
    "plt.figure(figsize=(15,15))\n",
    "sns.heatmap(Audio_Data)"
   ]
  },
  {
   "cell_type": "code",
   "execution_count": null,
   "metadata": {},
   "outputs": [],
   "source": []
  },
  {
   "cell_type": "code",
   "execution_count": 45,
   "metadata": {
    "collapsed": true
   },
   "outputs": [
    {
     "data": {
      "text/plain": [
       "<matplotlib.axes._subplots.AxesSubplot at 0x237296116d8>"
      ]
     },
     "execution_count": 45,
     "metadata": {},
     "output_type": "execute_result"
    },
    {
     "data": {
      "image/png": "[encoded data removed]",
      "text/plain": [
       "<Figure size 432x288 with 1 Axes>"
      ]
     },
     "metadata": {
      "needs_background": "light"
     },
     "output_type": "display_data"
    }
   ],
   "source": [
    "sns.distplot(Audio_Data['F5'],kde=False,color='darkblue',bins=20)"
   ]
  },
  {
   "cell_type": "markdown",
   "metadata": {},
   "source": [
    "### Applying Model"
   ]
  },
  {
   "cell_type": "code",
   "execution_count": 46,
   "metadata": {},
   "outputs": [
    {
     "data": {
      "text/plain": [
       "RandomForestClassifier(bootstrap=True, class_weight=None, criterion='gini',\n",
       "                       max_depth=None, max_features='auto', max_leaf_nodes=None,\n",
       "                       min_impurity_decrease=0.0, min_impurity_split=None,\n",
       "                       min_samples_leaf=1, min_samples_split=2,\n",
       "                       min_weight_fraction_leaf=0.0, n_estimators=10,\n",
       "                       n_jobs=None, oob_score=False, random_state=40, verbose=0,\n",
       "                       warm_start=False)"
      ]
     },
     "execution_count": 46,
     "metadata": {},
     "output_type": "execute_result"
    }
   ],
   "source": [
    "from sklearn.ensemble import RandomForestClassifier\n",
    "clf = RandomForestClassifier(n_estimators=10,random_state=rand_state)\n",
    "clf"
   ]
  },
  {
   "cell_type": "code",
   "execution_count": 47,
   "metadata": {},
   "outputs": [
    {
     "data": {
      "text/plain": [
       "RandomForestClassifier(bootstrap=True, class_weight=None, criterion='gini',\n",
       "                       max_depth=None, max_features='auto', max_leaf_nodes=None,\n",
       "                       min_impurity_decrease=0.0, min_impurity_split=None,\n",
       "                       min_samples_leaf=1, min_samples_split=2,\n",
       "                       min_weight_fraction_leaf=0.0, n_estimators=10,\n",
       "                       n_jobs=None, oob_score=False, random_state=40, verbose=0,\n",
       "                       warm_start=False)"
      ]
     },
     "execution_count": 47,
     "metadata": {},
     "output_type": "execute_result"
    }
   ],
   "source": [
    "clf.fit(X_train, y_train)"
   ]
  },
  {
   "cell_type": "code",
   "execution_count": 48,
   "metadata": {},
   "outputs": [
    {
     "data": {
      "text/plain": [
       "array([6, 5, 1, 4, 2, 6, 5, 7, 4, 1, 8, 4, 2, 6, 3, 1, 7, 8, 5, 4, 1, 3,\n",
       "       2], dtype=int64)"
      ]
     },
     "execution_count": 48,
     "metadata": {},
     "output_type": "execute_result"
    }
   ],
   "source": [
    "pred=clf.predict(X_test)\n",
    "pred"
   ]
  },
  {
   "cell_type": "markdown",
   "metadata": {},
   "source": [
    "### Confusion Matrix"
   ]
  },
  {
   "cell_type": "code",
   "execution_count": 49,
   "metadata": {},
   "outputs": [
    {
     "data": {
      "text/html": [
       "<div>\n",
       "<style scoped>\n",
       "    .dataframe tbody tr th:only-of-type {\n",
       "        vertical-align: middle;\n",
       "    }\n",
       "\n",
       "    .dataframe tbody tr th {\n",
       "        vertical-align: top;\n",
       "    }\n",
       "\n",
       "    .dataframe thead th {\n",
       "        text-align: right;\n",
       "    }\n",
       "</style>\n",
       "<table border=\"1\" class=\"dataframe\">\n",
       "  <thead>\n",
       "    <tr style=\"text-align: right;\">\n",
       "      <th>Predicted</th>\n",
       "      <th>1</th>\n",
       "      <th>2</th>\n",
       "      <th>3</th>\n",
       "      <th>4</th>\n",
       "      <th>5</th>\n",
       "      <th>6</th>\n",
       "      <th>7</th>\n",
       "      <th>8</th>\n",
       "      <th>All</th>\n",
       "    </tr>\n",
       "    <tr>\n",
       "      <th>True</th>\n",
       "      <th></th>\n",
       "      <th></th>\n",
       "      <th></th>\n",
       "      <th></th>\n",
       "      <th></th>\n",
       "      <th></th>\n",
       "      <th></th>\n",
       "      <th></th>\n",
       "      <th></th>\n",
       "    </tr>\n",
       "  </thead>\n",
       "  <tbody>\n",
       "    <tr>\n",
       "      <th>1</th>\n",
       "      <td>4</td>\n",
       "      <td>0</td>\n",
       "      <td>0</td>\n",
       "      <td>0</td>\n",
       "      <td>0</td>\n",
       "      <td>0</td>\n",
       "      <td>0</td>\n",
       "      <td>0</td>\n",
       "      <td>4</td>\n",
       "    </tr>\n",
       "    <tr>\n",
       "      <th>2</th>\n",
       "      <td>0</td>\n",
       "      <td>3</td>\n",
       "      <td>0</td>\n",
       "      <td>0</td>\n",
       "      <td>0</td>\n",
       "      <td>0</td>\n",
       "      <td>0</td>\n",
       "      <td>0</td>\n",
       "      <td>3</td>\n",
       "    </tr>\n",
       "    <tr>\n",
       "      <th>3</th>\n",
       "      <td>0</td>\n",
       "      <td>0</td>\n",
       "      <td>2</td>\n",
       "      <td>0</td>\n",
       "      <td>0</td>\n",
       "      <td>0</td>\n",
       "      <td>0</td>\n",
       "      <td>0</td>\n",
       "      <td>2</td>\n",
       "    </tr>\n",
       "    <tr>\n",
       "      <th>4</th>\n",
       "      <td>0</td>\n",
       "      <td>0</td>\n",
       "      <td>0</td>\n",
       "      <td>4</td>\n",
       "      <td>0</td>\n",
       "      <td>0</td>\n",
       "      <td>0</td>\n",
       "      <td>0</td>\n",
       "      <td>4</td>\n",
       "    </tr>\n",
       "    <tr>\n",
       "      <th>5</th>\n",
       "      <td>0</td>\n",
       "      <td>0</td>\n",
       "      <td>0</td>\n",
       "      <td>0</td>\n",
       "      <td>3</td>\n",
       "      <td>0</td>\n",
       "      <td>0</td>\n",
       "      <td>0</td>\n",
       "      <td>3</td>\n",
       "    </tr>\n",
       "    <tr>\n",
       "      <th>6</th>\n",
       "      <td>0</td>\n",
       "      <td>0</td>\n",
       "      <td>0</td>\n",
       "      <td>0</td>\n",
       "      <td>0</td>\n",
       "      <td>3</td>\n",
       "      <td>0</td>\n",
       "      <td>0</td>\n",
       "      <td>3</td>\n",
       "    </tr>\n",
       "    <tr>\n",
       "      <th>7</th>\n",
       "      <td>0</td>\n",
       "      <td>0</td>\n",
       "      <td>0</td>\n",
       "      <td>0</td>\n",
       "      <td>0</td>\n",
       "      <td>0</td>\n",
       "      <td>2</td>\n",
       "      <td>0</td>\n",
       "      <td>2</td>\n",
       "    </tr>\n",
       "    <tr>\n",
       "      <th>8</th>\n",
       "      <td>0</td>\n",
       "      <td>0</td>\n",
       "      <td>0</td>\n",
       "      <td>0</td>\n",
       "      <td>0</td>\n",
       "      <td>0</td>\n",
       "      <td>0</td>\n",
       "      <td>2</td>\n",
       "      <td>2</td>\n",
       "    </tr>\n",
       "    <tr>\n",
       "      <th>All</th>\n",
       "      <td>4</td>\n",
       "      <td>3</td>\n",
       "      <td>2</td>\n",
       "      <td>4</td>\n",
       "      <td>3</td>\n",
       "      <td>3</td>\n",
       "      <td>2</td>\n",
       "      <td>2</td>\n",
       "      <td>23</td>\n",
       "    </tr>\n",
       "  </tbody>\n",
       "</table>\n",
       "</div>"
      ],
      "text/plain": [
       "Predicted  1  2  3  4  5  6  7  8  All\n",
       "True                                  \n",
       "1          4  0  0  0  0  0  0  0    4\n",
       "2          0  3  0  0  0  0  0  0    3\n",
       "3          0  0  2  0  0  0  0  0    2\n",
       "4          0  0  0  4  0  0  0  0    4\n",
       "5          0  0  0  0  3  0  0  0    3\n",
       "6          0  0  0  0  0  3  0  0    3\n",
       "7          0  0  0  0  0  0  2  0    2\n",
       "8          0  0  0  0  0  0  0  2    2\n",
       "All        4  3  2  4  3  3  2  2   23"
      ]
     },
     "execution_count": 49,
     "metadata": {},
     "output_type": "execute_result"
    }
   ],
   "source": [
    "pd.crosstab(y_test, pred, rownames=['True'], colnames=['Predicted'], margins=True)"
   ]
  },
  {
   "cell_type": "markdown",
   "metadata": {},
   "source": [
    "### Score"
   ]
  },
  {
   "cell_type": "code",
   "execution_count": 51,
   "metadata": {},
   "outputs": [
    {
     "data": {
      "text/plain": [
       "1.0"
      ]
     },
     "execution_count": 51,
     "metadata": {},
     "output_type": "execute_result"
    }
   ],
   "source": [
    "clf.score(X_test,y_test)"
   ]
  },
  {
   "cell_type": "markdown",
   "metadata": {},
   "source": [
    "### Detection of Singers"
   ]
  },
  {
   "cell_type": "markdown",
   "metadata": {},
   "source": [
    "#### Original Test Data"
   ]
  },
  {
   "cell_type": "code",
   "execution_count": 55,
   "metadata": {},
   "outputs": [
    {
     "name": "stdout",
     "output_type": "stream",
     "text": [
      "Identified Artists:  [1 2 3 4 5 6 7 8]\n",
      "Artist Count:  [4, 3, 2, 4, 3, 3, 2, 2]\n"
     ]
    },
    {
     "data": {
      "text/plain": [
       "Text(0, 0.5, 'Count ->')"
      ]
     },
     "execution_count": 55,
     "metadata": {},
     "output_type": "execute_result"
    },
    {
     "data": {
      "image/png": "[encoded data removed]",
      "text/plain": [
       "<Figure size 720x432 with 1 Axes>"
      ]
     },
     "metadata": {
      "needs_background": "light"
     },
     "output_type": "display_data"
    }
   ],
   "source": [
    "y_test_val=np.array(y_test)\n",
    "y_test_val_u=np.unique(y_test_val)\n",
    "cnt=[]\n",
    "for i in range(len(y_test_val_u)):\n",
    "    cnt.append(y_test_val.tolist().count(y_test_val_u[i]))\n",
    "print(\"Identified Artists: \",y_test_val_u)\n",
    "print(\"Artist Count: \",cnt)\n",
    "plt.figure(figsize=(10,6))\n",
    "plt.title(\"Orignal Artist Count\",fontsize=20,color=\"m\")\n",
    "plt.bar(art,cnt,color='rcgmby')\n",
    "plt.xlabel(\"Artists ->\",fontsize=13,color=\"b\")\n",
    "plt.ylabel(\"Count ->\",fontsize=13,color=\"b\")"
   ]
  },
  {
   "cell_type": "markdown",
   "metadata": {},
   "source": [
    "#### Predicted Data"
   ]
  },
  {
   "cell_type": "code",
   "execution_count": 56,
   "metadata": {},
   "outputs": [
    {
     "name": "stdout",
     "output_type": "stream",
     "text": [
      "Identified Artists:  [1 2 3 4 5 6 7 8]\n",
      "Artist Count:  [4, 3, 2, 4, 3, 3, 2, 2]\n"
     ]
    },
    {
     "data": {
      "text/plain": [
       "Text(0, 0.5, 'Count ->')"
      ]
     },
     "execution_count": 56,
     "metadata": {},
     "output_type": "execute_result"
    },
    {
     "data": {
      "image/png": "[encoded data removed]",
      "text/plain": [
       "<Figure size 720x432 with 1 Axes>"
      ]
     },
     "metadata": {
      "needs_background": "light"
     },
     "output_type": "display_data"
    }
   ],
   "source": [
    "pred_val=np.array(pred)\n",
    "pred_val_u=np.unique(pred_val)\n",
    "cnt1=[]\n",
    "for i in range(len(pred_val_u)):\n",
    "    cnt1.append(pred_val.tolist().count(pred_val_u[i]))\n",
    "print(\"Identified Artists: \",pred_val_u)\n",
    "print(\"Artist Count: \",cnt1)\n",
    "plt.figure(figsize=(10,6))\n",
    "plt.title(\"Predicted Artist Count\",fontsize=20,color=\"m\")\n",
    "plt.bar(art,cnt1,color='rcgmby')\n",
    "plt.xlabel(\"Artists ->\",fontsize=13,color=\"b\")\n",
    "plt.ylabel(\"Count ->\",fontsize=13,color=\"b\")"
   ]
  },
  {
   "cell_type": "code",
   "execution_count": 97,
   "metadata": {},
   "outputs": [
    {
     "data": {
      "text/plain": [
       "<matplotlib.axes._subplots.AxesSubplot at 0x2372be20710>"
      ]
     },
     "execution_count": 97,
     "metadata": {},
     "output_type": "execute_result"
    },
    {
     "data": {
      "image/png": "[encoded data removed]",
      "text/plain": [
       "<Figure size 432x288 with 1 Axes>"
      ]
     },
     "metadata": {
      "needs_background": "light"
     },
     "output_type": "display_data"
    }
   ],
   "source": []
  },
  {
   "cell_type": "code",
   "execution_count": 57,
   "metadata": {},
   "outputs": [
    {
     "name": "stdout",
     "output_type": "stream",
     "text": [
      "10-fold cross validation average accuracy: 1.000\n",
      "10-fold cross validation average accuracy: 1.000\n"
     ]
    }
   ],
   "source": [
    "from sklearn import model_selection\n",
    "from sklearn.model_selection import cross_val_score\n",
    "kfold = model_selection.KFold(n_splits=15, random_state=30)\n",
    "scoring = 'accuracy'\n",
    "cross_res=[]\n",
    "for i in range(10):\n",
    "    results = model_selection.cross_val_score(clf, X_train, y_train, cv=kfold, scoring=scoring)\n",
    "    cross_res.append(max(results))\n",
    "print(\"10-fold cross validation average accuracy: %.3f\" % (max(cross_res)))\n",
    "print(\"10-fold cross validation average accuracy: %.3f\" % (np.array(cross_res).mean()))"
   ]
  },
  {
   "cell_type": "markdown",
   "metadata": {},
   "source": [
    "### Demo Testing"
   ]
  },
  {
   "cell_type": "code",
   "execution_count": 93,
   "metadata": {},
   "outputs": [
    {
     "data": {
      "text/plain": [
       "F1        21694.6\n",
       "F2          360.8\n",
       "F3          366.2\n",
       "F4          177.7\n",
       "F5          183.1\n",
       "           ...   \n",
       "F64       21764.6\n",
       "F65         290.8\n",
       "F66         113.1\n",
       "F67         306.9\n",
       "Artist        4.0\n",
       "Name: 15, Length: 68, dtype: float64"
      ]
     },
     "execution_count": 93,
     "metadata": {},
     "output_type": "execute_result"
    }
   ],
   "source": [
    "x=15\n",
    "freqdata.iloc[x]"
   ]
  },
  {
   "cell_type": "code",
   "execution_count": 94,
   "metadata": {},
   "outputs": [
    {
     "name": "stdout",
     "output_type": "stream",
     "text": [
      "4\n",
      "['Arijit Singh' 'Gulam Ali' 'Kumar Sanu' 'Manna' 'Nusrat' 'Rafi'\n",
      " 'Sonu Nigam' 'Udit Narayan']\n",
      "[1, 2, 3, 4, 5, 6, 7, 8]\n",
      "Detected Artist:  Manna\n"
     ]
    }
   ],
   "source": [
    "demo_pred=clf.predict([freqdata.drop('Artist',axis=1).iloc[x]])\n",
    "print(demo_pred[0])\n",
    "print(art)\n",
    "print(art_code)\n",
    "print(\"Detected Artist: \",art[art_code.index(int(demo_pred[0]))])"
   ]
  },
  {
   "cell_type": "code",
   "execution_count": null,
   "metadata": {},
   "outputs": [],
   "source": []
  }
 ],
 "metadata": {
  "kernelspec": {
   "display_name": "Python 3",
   "language": "python",
   "name": "python3"
  },
  "language_info": {
   "codemirror_mode": {
    "name": "ipython",
    "version": 3
   },
   "file_extension": ".py",
   "mimetype": "text/x-python",
   "name": "python",
   "nbconvert_exporter": "python",
   "pygments_lexer": "ipython3",
   "version": "3.6.8"
  }
 },
 "nbformat": 4,
 "nbformat_minor": 2
}
